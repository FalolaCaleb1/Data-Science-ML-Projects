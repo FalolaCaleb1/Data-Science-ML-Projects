{
 "cells": [
  {
   "cell_type": "markdown",
   "id": "447df780-38f2-4f81-b626-973dd4054e10",
   "metadata": {},
   "source": [
    "                                                        IMPORTING LIBRARIES"
   ]
  },
  {
   "cell_type": "code",
   "execution_count": 1,
   "id": "9cf76c06-d866-4a4d-b980-11a69cfea861",
   "metadata": {},
   "outputs": [],
   "source": [
    "import pandas as pd\n",
    "import numpy as np\n",
    "import re\n",
    "\n",
    "import matplotlib.pyplot as plt\n",
    "\n",
    "\n",
    "\n",
    "\n",
    "\n",
    "\n",
    "\n",
    "from sklearn.model_selection import train_test_split\n",
    "from sklearn.linear_model import LinearRegression\n",
    "from sklearn.svm import SVC\n",
    "from sklearn.ensemble import RandomForestRegressor\n",
    "import warnings\n",
    "warnings.filterwarnings('ignore')"
   ]
  },
  {
   "cell_type": "markdown",
   "id": "5415e101-a441-4139-88cf-5a7b045ed758",
   "metadata": {},
   "source": [
    "                                                              IMPORTING DATA"
   ]
  },
  {
   "cell_type": "code",
   "execution_count": 2,
   "id": "f3b8de99-53aa-40ae-b058-75e5b4718b35",
   "metadata": {},
   "outputs": [],
   "source": [
    "data = pd.read_csv('C:/Users/DELL/Downloads/usa_mercedes_benz_prices.csv')"
   ]
  },
  {
   "cell_type": "code",
   "execution_count": 3,
   "id": "ec34697a-a4e0-49b8-be70-0a0106e04116",
   "metadata": {},
   "outputs": [
    {
     "data": {
      "text/html": [
       "<div>\n",
       "<style scoped>\n",
       "    .dataframe tbody tr th:only-of-type {\n",
       "        vertical-align: middle;\n",
       "    }\n",
       "\n",
       "    .dataframe tbody tr th {\n",
       "        vertical-align: top;\n",
       "    }\n",
       "\n",
       "    .dataframe thead th {\n",
       "        text-align: right;\n",
       "    }\n",
       "</style>\n",
       "<table border=\"1\" class=\"dataframe\">\n",
       "  <thead>\n",
       "    <tr style=\"text-align: right;\">\n",
       "      <th></th>\n",
       "      <th>Name</th>\n",
       "      <th>Mileage</th>\n",
       "      <th>Rating</th>\n",
       "      <th>Review Count</th>\n",
       "      <th>Price</th>\n",
       "    </tr>\n",
       "  </thead>\n",
       "  <tbody>\n",
       "    <tr>\n",
       "      <th>1559</th>\n",
       "      <td>2021 Mercedes-Benz AMG GLE 63 S-Model 4MATIC</td>\n",
       "      <td>39,805 mi.</td>\n",
       "      <td>4.7</td>\n",
       "      <td>1,948</td>\n",
       "      <td>$84,950</td>\n",
       "    </tr>\n",
       "    <tr>\n",
       "      <th>1909</th>\n",
       "      <td>2022 Mercedes-Benz CLS 450 Base 4MATIC</td>\n",
       "      <td>10,351 mi.</td>\n",
       "      <td>4.3</td>\n",
       "      <td>1,491</td>\n",
       "      <td>$65,999</td>\n",
       "    </tr>\n",
       "    <tr>\n",
       "      <th>390</th>\n",
       "      <td>2021 Mercedes-Benz AMG A 35 Base</td>\n",
       "      <td>36,001 mi.</td>\n",
       "      <td>3.4</td>\n",
       "      <td>1,008</td>\n",
       "      <td>$37,995</td>\n",
       "    </tr>\n",
       "    <tr>\n",
       "      <th>701</th>\n",
       "      <td>2023 Mercedes-Benz GLB 250 Base 4MATIC</td>\n",
       "      <td>2,900 mi.</td>\n",
       "      <td>3.9</td>\n",
       "      <td>1,800</td>\n",
       "      <td>$45,900</td>\n",
       "    </tr>\n",
       "    <tr>\n",
       "      <th>626</th>\n",
       "      <td>2021 Mercedes-Benz A-Class A 220 4MATIC</td>\n",
       "      <td>29,636 mi.</td>\n",
       "      <td>3.9</td>\n",
       "      <td>1,800</td>\n",
       "      <td>$30,900</td>\n",
       "    </tr>\n",
       "    <tr>\n",
       "      <th>132</th>\n",
       "      <td>2021 Mercedes-Benz A-Class A 220 4MATIC</td>\n",
       "      <td>45,105 mi.</td>\n",
       "      <td>4.7</td>\n",
       "      <td>316</td>\n",
       "      <td>$26,540</td>\n",
       "    </tr>\n",
       "    <tr>\n",
       "      <th>741</th>\n",
       "      <td>2023 Mercedes-Benz C-Class C 300</td>\n",
       "      <td>6,844 mi.</td>\n",
       "      <td>4.5</td>\n",
       "      <td>344</td>\n",
       "      <td>$44,788</td>\n",
       "    </tr>\n",
       "    <tr>\n",
       "      <th>1936</th>\n",
       "      <td>2021 Mercedes-Benz AMG GT 43 Base</td>\n",
       "      <td>57,378 mi.</td>\n",
       "      <td>4.5</td>\n",
       "      <td>627</td>\n",
       "      <td>$66,991</td>\n",
       "    </tr>\n",
       "    <tr>\n",
       "      <th>1913</th>\n",
       "      <td>2020 Mercedes-Benz AMG G 63 Base</td>\n",
       "      <td>36,415 mi.</td>\n",
       "      <td>4.3</td>\n",
       "      <td>1,491</td>\n",
       "      <td>$163,981</td>\n",
       "    </tr>\n",
       "    <tr>\n",
       "      <th>1515</th>\n",
       "      <td>2021 Mercedes-Benz GLB 250 Base 4MATIC</td>\n",
       "      <td>61,898 mi.</td>\n",
       "      <td>4.2</td>\n",
       "      <td>2,867</td>\n",
       "      <td>$28,989</td>\n",
       "    </tr>\n",
       "    <tr>\n",
       "      <th>1745</th>\n",
       "      <td>2021 Mercedes-Benz GLC 300 Base</td>\n",
       "      <td>36,873 mi.</td>\n",
       "      <td>4.7</td>\n",
       "      <td>733</td>\n",
       "      <td>$30,439</td>\n",
       "    </tr>\n",
       "    <tr>\n",
       "      <th>613</th>\n",
       "      <td>2023 Mercedes-Benz GLB 250 Base 4MATIC</td>\n",
       "      <td>5,340 mi.</td>\n",
       "      <td>4.2</td>\n",
       "      <td>862</td>\n",
       "      <td>$39,577</td>\n",
       "    </tr>\n",
       "    <tr>\n",
       "      <th>1234</th>\n",
       "      <td>2023 Mercedes-Benz C-Class C 300</td>\n",
       "      <td>5,312 mi.</td>\n",
       "      <td>4.9</td>\n",
       "      <td>2,166</td>\n",
       "      <td>$46,446</td>\n",
       "    </tr>\n",
       "    <tr>\n",
       "      <th>103</th>\n",
       "      <td>2024 Mercedes-Benz GLE 350 Base 4MATIC</td>\n",
       "      <td>5,538 mi.</td>\n",
       "      <td>NaN</td>\n",
       "      <td>543</td>\n",
       "      <td>$70,991</td>\n",
       "    </tr>\n",
       "    <tr>\n",
       "      <th>2027</th>\n",
       "      <td>2023 Mercedes-Benz GLB 250 Base</td>\n",
       "      <td>3,854 mi.</td>\n",
       "      <td>4.5</td>\n",
       "      <td>2,465</td>\n",
       "      <td>$39,988</td>\n",
       "    </tr>\n",
       "    <tr>\n",
       "      <th>315</th>\n",
       "      <td>2020 Mercedes-Benz GLS 450 Base 4MATIC</td>\n",
       "      <td>39,881 mi.</td>\n",
       "      <td>NaN</td>\n",
       "      <td>37</td>\n",
       "      <td>$50,563</td>\n",
       "    </tr>\n",
       "    <tr>\n",
       "      <th>708</th>\n",
       "      <td>2023 Mercedes-Benz E-Class E 350 4MATIC</td>\n",
       "      <td>2,662 mi.</td>\n",
       "      <td>4.4</td>\n",
       "      <td>295</td>\n",
       "      <td>$58,199</td>\n",
       "    </tr>\n",
       "    <tr>\n",
       "      <th>1889</th>\n",
       "      <td>2023 Mercedes-Benz CLA 250 Base</td>\n",
       "      <td>9,233 mi.</td>\n",
       "      <td>4.5</td>\n",
       "      <td>2,465</td>\n",
       "      <td>$37,988</td>\n",
       "    </tr>\n",
       "    <tr>\n",
       "      <th>1278</th>\n",
       "      <td>2021 Mercedes-Benz GLC 300 Base 4MATIC</td>\n",
       "      <td>22,881 mi.</td>\n",
       "      <td>4.9</td>\n",
       "      <td>4,585</td>\n",
       "      <td>$38,000</td>\n",
       "    </tr>\n",
       "    <tr>\n",
       "      <th>326</th>\n",
       "      <td>2021 Mercedes-Benz AMG GT 63 4-Door</td>\n",
       "      <td>17,898 mi.</td>\n",
       "      <td>4.7</td>\n",
       "      <td>1,594</td>\n",
       "      <td>$110,950</td>\n",
       "    </tr>\n",
       "    <tr>\n",
       "      <th>2131</th>\n",
       "      <td>2023 Mercedes-Benz GLB 250 Base</td>\n",
       "      <td>6,405 mi.</td>\n",
       "      <td>4.6</td>\n",
       "      <td>981</td>\n",
       "      <td>$42,999</td>\n",
       "    </tr>\n",
       "    <tr>\n",
       "      <th>2060</th>\n",
       "      <td>2021 Mercedes-Benz GLE 350 Base 4MATIC</td>\n",
       "      <td>32,976 mi.</td>\n",
       "      <td>4.3</td>\n",
       "      <td>443</td>\n",
       "      <td>$42,250</td>\n",
       "    </tr>\n",
       "    <tr>\n",
       "      <th>861</th>\n",
       "      <td>2023 Mercedes-Benz AMG GLS 63 Base</td>\n",
       "      <td>11,600 mi.</td>\n",
       "      <td>4.6</td>\n",
       "      <td>1,847</td>\n",
       "      <td>$139,250</td>\n",
       "    </tr>\n",
       "    <tr>\n",
       "      <th>1840</th>\n",
       "      <td>2020 Mercedes-Benz CLA 250 Base</td>\n",
       "      <td>25,969 mi.</td>\n",
       "      <td>3.1</td>\n",
       "      <td>133</td>\n",
       "      <td>$28,999</td>\n",
       "    </tr>\n",
       "    <tr>\n",
       "      <th>876</th>\n",
       "      <td>2021 Mercedes-Benz C-Class C 300 4MATIC</td>\n",
       "      <td>39,241 mi.</td>\n",
       "      <td>4.7</td>\n",
       "      <td>557</td>\n",
       "      <td>$33,937</td>\n",
       "    </tr>\n",
       "    <tr>\n",
       "      <th>2043</th>\n",
       "      <td>2022 Mercedes-Benz S-Class S 580 4MATIC</td>\n",
       "      <td>17,216 mi.</td>\n",
       "      <td>4.8</td>\n",
       "      <td>2,195</td>\n",
       "      <td>$99,998</td>\n",
       "    </tr>\n",
       "    <tr>\n",
       "      <th>1661</th>\n",
       "      <td>2023 Mercedes-Benz S-Class Base</td>\n",
       "      <td>5,488 mi.</td>\n",
       "      <td>4.8</td>\n",
       "      <td>823</td>\n",
       "      <td>$129,900</td>\n",
       "    </tr>\n",
       "    <tr>\n",
       "      <th>297</th>\n",
       "      <td>2022 Mercedes-Benz EQS 580 Base 4MATIC</td>\n",
       "      <td>9,911 mi.</td>\n",
       "      <td>4.3</td>\n",
       "      <td>1,491</td>\n",
       "      <td>$72,555</td>\n",
       "    </tr>\n",
       "    <tr>\n",
       "      <th>475</th>\n",
       "      <td>2020 Mercedes-Benz GLB 250 Base 4MATIC</td>\n",
       "      <td>24,923 mi.</td>\n",
       "      <td>4.9</td>\n",
       "      <td>2,350</td>\n",
       "      <td>$33,498</td>\n",
       "    </tr>\n",
       "    <tr>\n",
       "      <th>873</th>\n",
       "      <td>2023 Mercedes-Benz E-Class E 350 4MATIC</td>\n",
       "      <td>5,727 mi.</td>\n",
       "      <td>4.4</td>\n",
       "      <td>295</td>\n",
       "      <td>$55,835</td>\n",
       "    </tr>\n",
       "    <tr>\n",
       "      <th>69</th>\n",
       "      <td>2021 Mercedes-Benz GLA 250 Base 4MATIC</td>\n",
       "      <td>30,790 mi.</td>\n",
       "      <td>NaN</td>\n",
       "      <td>1</td>\n",
       "      <td>$29,999</td>\n",
       "    </tr>\n",
       "    <tr>\n",
       "      <th>416</th>\n",
       "      <td>2023 Mercedes-Benz Metris Base</td>\n",
       "      <td>5,218 mi.</td>\n",
       "      <td>4.8</td>\n",
       "      <td>186</td>\n",
       "      <td>$51,500</td>\n",
       "    </tr>\n",
       "    <tr>\n",
       "      <th>41</th>\n",
       "      <td>2022 Mercedes-Benz AMG G 63 4MATIC</td>\n",
       "      <td>16,044 mi.</td>\n",
       "      <td>3.0</td>\n",
       "      <td>33</td>\n",
       "      <td>$198,000</td>\n",
       "    </tr>\n",
       "    <tr>\n",
       "      <th>631</th>\n",
       "      <td>2023 Mercedes-Benz GLB 250 Base 4MATIC</td>\n",
       "      <td>9,176 mi.</td>\n",
       "      <td>4.4</td>\n",
       "      <td>295</td>\n",
       "      <td>$42,989</td>\n",
       "    </tr>\n",
       "    <tr>\n",
       "      <th>2259</th>\n",
       "      <td>2023 Mercedes-Benz AMG GLB 35 Base</td>\n",
       "      <td>9,958 mi.</td>\n",
       "      <td>4.8</td>\n",
       "      <td>1,354</td>\n",
       "      <td>$51,994</td>\n",
       "    </tr>\n",
       "    <tr>\n",
       "      <th>1883</th>\n",
       "      <td>2021 Mercedes-Benz AMG GT 43 Base</td>\n",
       "      <td>21,758 mi.</td>\n",
       "      <td>4.8</td>\n",
       "      <td>5,398</td>\n",
       "      <td>$74,893</td>\n",
       "    </tr>\n",
       "    <tr>\n",
       "      <th>879</th>\n",
       "      <td>2021 Mercedes-Benz GLA 250 Base 4MATIC</td>\n",
       "      <td>27,613 mi.</td>\n",
       "      <td>4.3</td>\n",
       "      <td>443</td>\n",
       "      <td>$29,250</td>\n",
       "    </tr>\n",
       "    <tr>\n",
       "      <th>410</th>\n",
       "      <td>2023 Mercedes-Benz Sprinter 2500 170 WB</td>\n",
       "      <td>1,357 mi.</td>\n",
       "      <td>4.3</td>\n",
       "      <td>419</td>\n",
       "      <td>$56,997</td>\n",
       "    </tr>\n",
       "    <tr>\n",
       "      <th>310</th>\n",
       "      <td>2023 Mercedes-Benz AMG SL 63 Base</td>\n",
       "      <td>2,912 mi.</td>\n",
       "      <td>3.4</td>\n",
       "      <td>468</td>\n",
       "      <td>$164,994</td>\n",
       "    </tr>\n",
       "    <tr>\n",
       "      <th>1367</th>\n",
       "      <td>2021 Mercedes-Benz GLC 300 Base 4MATIC</td>\n",
       "      <td>34,986 mi.</td>\n",
       "      <td>NaN</td>\n",
       "      <td>418</td>\n",
       "      <td>$33,833</td>\n",
       "    </tr>\n",
       "    <tr>\n",
       "      <th>29</th>\n",
       "      <td>2019 Mercedes-Benz CLS 450 Base 4MATIC</td>\n",
       "      <td>55,090 mi.</td>\n",
       "      <td>4.6</td>\n",
       "      <td>716</td>\n",
       "      <td>$39,442</td>\n",
       "    </tr>\n",
       "    <tr>\n",
       "      <th>1050</th>\n",
       "      <td>2023 Mercedes-Benz GLE 350 Base</td>\n",
       "      <td>7,333 mi.</td>\n",
       "      <td>4.8</td>\n",
       "      <td>329</td>\n",
       "      <td>$58,880</td>\n",
       "    </tr>\n",
       "    <tr>\n",
       "      <th>2089</th>\n",
       "      <td>2023 Mercedes-Benz GLB 250 Base</td>\n",
       "      <td>11,204 mi.</td>\n",
       "      <td>4.7</td>\n",
       "      <td>1,948</td>\n",
       "      <td>$41,000</td>\n",
       "    </tr>\n",
       "    <tr>\n",
       "      <th>1202</th>\n",
       "      <td>2023 Mercedes-Benz GLA 250 Base</td>\n",
       "      <td>817 mi.</td>\n",
       "      <td>4.8</td>\n",
       "      <td>1,735</td>\n",
       "      <td>$40,983</td>\n",
       "    </tr>\n",
       "    <tr>\n",
       "      <th>1588</th>\n",
       "      <td>2023 Mercedes-Benz C-Class C 300 4MATIC</td>\n",
       "      <td>4,561 mi.</td>\n",
       "      <td>4.8</td>\n",
       "      <td>1,354</td>\n",
       "      <td>$49,983</td>\n",
       "    </tr>\n",
       "    <tr>\n",
       "      <th>2326</th>\n",
       "      <td>2023 Mercedes-Benz E-Class E 350</td>\n",
       "      <td>9,574 mi.</td>\n",
       "      <td>4.3</td>\n",
       "      <td>419</td>\n",
       "      <td>$60,597</td>\n",
       "    </tr>\n",
       "    <tr>\n",
       "      <th>1046</th>\n",
       "      <td>2023 Mercedes-Benz EQB 300 Base 4MATIC</td>\n",
       "      <td>4,691 mi.</td>\n",
       "      <td>NaN</td>\n",
       "      <td>22</td>\n",
       "      <td>$55,900</td>\n",
       "    </tr>\n",
       "    <tr>\n",
       "      <th>1146</th>\n",
       "      <td>2023 Mercedes-Benz EQB 300 Base 4MATIC</td>\n",
       "      <td>2,470 mi.</td>\n",
       "      <td>4.3</td>\n",
       "      <td>1,491</td>\n",
       "      <td>$57,505</td>\n",
       "    </tr>\n",
       "    <tr>\n",
       "      <th>1308</th>\n",
       "      <td>2024 Mercedes-Benz GLE 350 Base 4MATIC</td>\n",
       "      <td>6,202 mi.</td>\n",
       "      <td>4.5</td>\n",
       "      <td>1,926</td>\n",
       "      <td>$61,777</td>\n",
       "    </tr>\n",
       "    <tr>\n",
       "      <th>1738</th>\n",
       "      <td>2020 Mercedes-Benz C-Class C 300</td>\n",
       "      <td>41,373 mi.</td>\n",
       "      <td>4.5</td>\n",
       "      <td>1,926</td>\n",
       "      <td>$25,991</td>\n",
       "    </tr>\n",
       "  </tbody>\n",
       "</table>\n",
       "</div>"
      ],
      "text/plain": [
       "                                              Name     Mileage  Rating  \\\n",
       "1559  2021 Mercedes-Benz AMG GLE 63 S-Model 4MATIC  39,805 mi.     4.7   \n",
       "1909        2022 Mercedes-Benz CLS 450 Base 4MATIC  10,351 mi.     4.3   \n",
       "390               2021 Mercedes-Benz AMG A 35 Base  36,001 mi.     3.4   \n",
       "701         2023 Mercedes-Benz GLB 250 Base 4MATIC   2,900 mi.     3.9   \n",
       "626        2021 Mercedes-Benz A-Class A 220 4MATIC  29,636 mi.     3.9   \n",
       "132        2021 Mercedes-Benz A-Class A 220 4MATIC  45,105 mi.     4.7   \n",
       "741               2023 Mercedes-Benz C-Class C 300   6,844 mi.     4.5   \n",
       "1936             2021 Mercedes-Benz AMG GT 43 Base  57,378 mi.     4.5   \n",
       "1913              2020 Mercedes-Benz AMG G 63 Base  36,415 mi.     4.3   \n",
       "1515        2021 Mercedes-Benz GLB 250 Base 4MATIC  61,898 mi.     4.2   \n",
       "1745               2021 Mercedes-Benz GLC 300 Base  36,873 mi.     4.7   \n",
       "613         2023 Mercedes-Benz GLB 250 Base 4MATIC   5,340 mi.     4.2   \n",
       "1234              2023 Mercedes-Benz C-Class C 300   5,312 mi.     4.9   \n",
       "103         2024 Mercedes-Benz GLE 350 Base 4MATIC   5,538 mi.     NaN   \n",
       "2027               2023 Mercedes-Benz GLB 250 Base   3,854 mi.     4.5   \n",
       "315         2020 Mercedes-Benz GLS 450 Base 4MATIC  39,881 mi.     NaN   \n",
       "708        2023 Mercedes-Benz E-Class E 350 4MATIC   2,662 mi.     4.4   \n",
       "1889               2023 Mercedes-Benz CLA 250 Base   9,233 mi.     4.5   \n",
       "1278        2021 Mercedes-Benz GLC 300 Base 4MATIC  22,881 mi.     4.9   \n",
       "326            2021 Mercedes-Benz AMG GT 63 4-Door  17,898 mi.     4.7   \n",
       "2131               2023 Mercedes-Benz GLB 250 Base   6,405 mi.     4.6   \n",
       "2060        2021 Mercedes-Benz GLE 350 Base 4MATIC  32,976 mi.     4.3   \n",
       "861             2023 Mercedes-Benz AMG GLS 63 Base  11,600 mi.     4.6   \n",
       "1840               2020 Mercedes-Benz CLA 250 Base  25,969 mi.     3.1   \n",
       "876        2021 Mercedes-Benz C-Class C 300 4MATIC  39,241 mi.     4.7   \n",
       "2043       2022 Mercedes-Benz S-Class S 580 4MATIC  17,216 mi.     4.8   \n",
       "1661               2023 Mercedes-Benz S-Class Base   5,488 mi.     4.8   \n",
       "297         2022 Mercedes-Benz EQS 580 Base 4MATIC   9,911 mi.     4.3   \n",
       "475         2020 Mercedes-Benz GLB 250 Base 4MATIC  24,923 mi.     4.9   \n",
       "873        2023 Mercedes-Benz E-Class E 350 4MATIC   5,727 mi.     4.4   \n",
       "69          2021 Mercedes-Benz GLA 250 Base 4MATIC  30,790 mi.     NaN   \n",
       "416                 2023 Mercedes-Benz Metris Base   5,218 mi.     4.8   \n",
       "41              2022 Mercedes-Benz AMG G 63 4MATIC  16,044 mi.     3.0   \n",
       "631         2023 Mercedes-Benz GLB 250 Base 4MATIC   9,176 mi.     4.4   \n",
       "2259            2023 Mercedes-Benz AMG GLB 35 Base   9,958 mi.     4.8   \n",
       "1883             2021 Mercedes-Benz AMG GT 43 Base  21,758 mi.     4.8   \n",
       "879         2021 Mercedes-Benz GLA 250 Base 4MATIC  27,613 mi.     4.3   \n",
       "410        2023 Mercedes-Benz Sprinter 2500 170 WB   1,357 mi.     4.3   \n",
       "310              2023 Mercedes-Benz AMG SL 63 Base   2,912 mi.     3.4   \n",
       "1367        2021 Mercedes-Benz GLC 300 Base 4MATIC  34,986 mi.     NaN   \n",
       "29          2019 Mercedes-Benz CLS 450 Base 4MATIC  55,090 mi.     4.6   \n",
       "1050               2023 Mercedes-Benz GLE 350 Base   7,333 mi.     4.8   \n",
       "2089               2023 Mercedes-Benz GLB 250 Base  11,204 mi.     4.7   \n",
       "1202               2023 Mercedes-Benz GLA 250 Base     817 mi.     4.8   \n",
       "1588       2023 Mercedes-Benz C-Class C 300 4MATIC   4,561 mi.     4.8   \n",
       "2326              2023 Mercedes-Benz E-Class E 350   9,574 mi.     4.3   \n",
       "1046        2023 Mercedes-Benz EQB 300 Base 4MATIC   4,691 mi.     NaN   \n",
       "1146        2023 Mercedes-Benz EQB 300 Base 4MATIC   2,470 mi.     4.3   \n",
       "1308        2024 Mercedes-Benz GLE 350 Base 4MATIC   6,202 mi.     4.5   \n",
       "1738              2020 Mercedes-Benz C-Class C 300  41,373 mi.     4.5   \n",
       "\n",
       "     Review Count      Price  \n",
       "1559        1,948   $84,950   \n",
       "1909        1,491   $65,999   \n",
       "390         1,008   $37,995   \n",
       "701         1,800   $45,900   \n",
       "626         1,800   $30,900   \n",
       "132           316   $26,540   \n",
       "741           344   $44,788   \n",
       "1936          627   $66,991   \n",
       "1913        1,491  $163,981   \n",
       "1515        2,867   $28,989   \n",
       "1745          733   $30,439   \n",
       "613           862   $39,577   \n",
       "1234        2,166   $46,446   \n",
       "103           543   $70,991   \n",
       "2027        2,465   $39,988   \n",
       "315            37   $50,563   \n",
       "708           295   $58,199   \n",
       "1889        2,465   $37,988   \n",
       "1278        4,585   $38,000   \n",
       "326         1,594  $110,950   \n",
       "2131          981   $42,999   \n",
       "2060          443   $42,250   \n",
       "861         1,847  $139,250   \n",
       "1840          133   $28,999   \n",
       "876           557   $33,937   \n",
       "2043        2,195   $99,998   \n",
       "1661          823  $129,900   \n",
       "297         1,491   $72,555   \n",
       "475         2,350   $33,498   \n",
       "873           295   $55,835   \n",
       "69              1   $29,999   \n",
       "416           186   $51,500   \n",
       "41             33  $198,000   \n",
       "631           295   $42,989   \n",
       "2259        1,354   $51,994   \n",
       "1883        5,398   $74,893   \n",
       "879           443   $29,250   \n",
       "410           419   $56,997   \n",
       "310           468  $164,994   \n",
       "1367          418   $33,833   \n",
       "29            716   $39,442   \n",
       "1050          329   $58,880   \n",
       "2089        1,948   $41,000   \n",
       "1202        1,735   $40,983   \n",
       "1588        1,354   $49,983   \n",
       "2326          419   $60,597   \n",
       "1046           22   $55,900   \n",
       "1146        1,491   $57,505   \n",
       "1308        1,926   $61,777   \n",
       "1738        1,926   $25,991   "
      ]
     },
     "execution_count": 3,
     "metadata": {},
     "output_type": "execute_result"
    }
   ],
   "source": [
    "data.sample(50)"
   ]
  },
  {
   "cell_type": "code",
   "execution_count": 4,
   "id": "f6d4cda6-0958-4ba0-a911-9a7a56f52a65",
   "metadata": {},
   "outputs": [
    {
     "name": "stdout",
     "output_type": "stream",
     "text": [
      "<class 'pandas.core.frame.DataFrame'>\n",
      "RangeIndex: 2429 entries, 0 to 2428\n",
      "Data columns (total 5 columns):\n",
      " #   Column        Non-Null Count  Dtype  \n",
      "---  ------        --------------  -----  \n",
      " 0   Name          2429 non-null   object \n",
      " 1   Mileage       2429 non-null   object \n",
      " 2   Rating        2135 non-null   float64\n",
      " 3   Review Count  2398 non-null   object \n",
      " 4   Price         2429 non-null   object \n",
      "dtypes: float64(1), object(4)\n",
      "memory usage: 95.0+ KB\n"
     ]
    }
   ],
   "source": [
    "data.info()"
   ]
  },
  {
   "cell_type": "markdown",
   "id": "f6a890a5-cd55-4fb0-a012-8eea3e763127",
   "metadata": {},
   "source": [
    "                                                             DATA CLEANING"
   ]
  },
  {
   "cell_type": "code",
   "execution_count": 5,
   "id": "a656540a-16af-4542-b41f-1c0cd3ef0d70",
   "metadata": {},
   "outputs": [],
   "source": [
    "#Extracting model year from Name column for a clean and more accurate model prediction\n",
    "data['Model Year'] = data['Name'].str.extract(r'(\\d{4})')"
   ]
  },
  {
   "cell_type": "code",
   "execution_count": 6,
   "id": "f1e0ae2e-c2e4-4039-a181-bba4a4f1dfd7",
   "metadata": {},
   "outputs": [
    {
     "data": {
      "text/html": [
       "<div>\n",
       "<style scoped>\n",
       "    .dataframe tbody tr th:only-of-type {\n",
       "        vertical-align: middle;\n",
       "    }\n",
       "\n",
       "    .dataframe tbody tr th {\n",
       "        vertical-align: top;\n",
       "    }\n",
       "\n",
       "    .dataframe thead th {\n",
       "        text-align: right;\n",
       "    }\n",
       "</style>\n",
       "<table border=\"1\" class=\"dataframe\">\n",
       "  <thead>\n",
       "    <tr style=\"text-align: right;\">\n",
       "      <th></th>\n",
       "      <th>Name</th>\n",
       "      <th>Mileage</th>\n",
       "      <th>Rating</th>\n",
       "      <th>Review Count</th>\n",
       "      <th>Price</th>\n",
       "      <th>Model Year</th>\n",
       "    </tr>\n",
       "  </thead>\n",
       "  <tbody>\n",
       "    <tr>\n",
       "      <th>0</th>\n",
       "      <td>2021 Mercedes-Benz A-Class A 220 4MATIC</td>\n",
       "      <td>29,636 mi.</td>\n",
       "      <td>3.9</td>\n",
       "      <td>1,800</td>\n",
       "      <td>$30,900</td>\n",
       "      <td>2021</td>\n",
       "    </tr>\n",
       "    <tr>\n",
       "      <th>1</th>\n",
       "      <td>2022 Mercedes-Benz AMG SL 63 Base</td>\n",
       "      <td>5,540 mi.</td>\n",
       "      <td>4.7</td>\n",
       "      <td>1,239</td>\n",
       "      <td>$139,999</td>\n",
       "      <td>2022</td>\n",
       "    </tr>\n",
       "    <tr>\n",
       "      <th>2</th>\n",
       "      <td>2022 Mercedes-Benz AMG SL 63 Base</td>\n",
       "      <td>4,890 mi.</td>\n",
       "      <td>4.7</td>\n",
       "      <td>1,239</td>\n",
       "      <td>$132,999</td>\n",
       "      <td>2022</td>\n",
       "    </tr>\n",
       "    <tr>\n",
       "      <th>3</th>\n",
       "      <td>2020 Mercedes-Benz AMG E 53 Base 4MATIC</td>\n",
       "      <td>29,746 mi.</td>\n",
       "      <td>4.8</td>\n",
       "      <td>752</td>\n",
       "      <td>$58,587</td>\n",
       "      <td>2020</td>\n",
       "    </tr>\n",
       "    <tr>\n",
       "      <th>4</th>\n",
       "      <td>2021 Mercedes-Benz AMG GLS 63 Base 4MATIC</td>\n",
       "      <td>32,631 mi.</td>\n",
       "      <td>5.0</td>\n",
       "      <td>1,502</td>\n",
       "      <td>$95,990</td>\n",
       "      <td>2021</td>\n",
       "    </tr>\n",
       "    <tr>\n",
       "      <th>...</th>\n",
       "      <td>...</td>\n",
       "      <td>...</td>\n",
       "      <td>...</td>\n",
       "      <td>...</td>\n",
       "      <td>...</td>\n",
       "      <td>...</td>\n",
       "    </tr>\n",
       "    <tr>\n",
       "      <th>2424</th>\n",
       "      <td>2021 Mercedes-Benz E-Class E 450 4MATIC</td>\n",
       "      <td>54,422 mi.</td>\n",
       "      <td>NaN</td>\n",
       "      <td>236</td>\n",
       "      <td>$53,490</td>\n",
       "      <td>2021</td>\n",
       "    </tr>\n",
       "    <tr>\n",
       "      <th>2425</th>\n",
       "      <td>2022 Mercedes-Benz S-Class 4MATIC</td>\n",
       "      <td>11,395 mi.</td>\n",
       "      <td>4.5</td>\n",
       "      <td>1,334</td>\n",
       "      <td>$89,599</td>\n",
       "      <td>2022</td>\n",
       "    </tr>\n",
       "    <tr>\n",
       "      <th>2426</th>\n",
       "      <td>2021 Mercedes-Benz GLB 250 Base 4MATIC</td>\n",
       "      <td>30,392 mi.</td>\n",
       "      <td>4.9</td>\n",
       "      <td>2,375</td>\n",
       "      <td>$32,890</td>\n",
       "      <td>2021</td>\n",
       "    </tr>\n",
       "    <tr>\n",
       "      <th>2427</th>\n",
       "      <td>2023 Mercedes-Benz E-Class E 450 4MATIC</td>\n",
       "      <td>3,413 mi.</td>\n",
       "      <td>4.8</td>\n",
       "      <td>1,758</td>\n",
       "      <td>$53,983</td>\n",
       "      <td>2023</td>\n",
       "    </tr>\n",
       "    <tr>\n",
       "      <th>2428</th>\n",
       "      <td>2023 Mercedes-Benz GLA 250 Base</td>\n",
       "      <td>6,336 mi.</td>\n",
       "      <td>4.5</td>\n",
       "      <td>2,057</td>\n",
       "      <td>$46,035</td>\n",
       "      <td>2023</td>\n",
       "    </tr>\n",
       "  </tbody>\n",
       "</table>\n",
       "<p>2429 rows × 6 columns</p>\n",
       "</div>"
      ],
      "text/plain": [
       "                                           Name     Mileage  Rating  \\\n",
       "0       2021 Mercedes-Benz A-Class A 220 4MATIC  29,636 mi.     3.9   \n",
       "1             2022 Mercedes-Benz AMG SL 63 Base   5,540 mi.     4.7   \n",
       "2             2022 Mercedes-Benz AMG SL 63 Base   4,890 mi.     4.7   \n",
       "3       2020 Mercedes-Benz AMG E 53 Base 4MATIC  29,746 mi.     4.8   \n",
       "4     2021 Mercedes-Benz AMG GLS 63 Base 4MATIC  32,631 mi.     5.0   \n",
       "...                                         ...         ...     ...   \n",
       "2424    2021 Mercedes-Benz E-Class E 450 4MATIC  54,422 mi.     NaN   \n",
       "2425          2022 Mercedes-Benz S-Class 4MATIC  11,395 mi.     4.5   \n",
       "2426     2021 Mercedes-Benz GLB 250 Base 4MATIC  30,392 mi.     4.9   \n",
       "2427    2023 Mercedes-Benz E-Class E 450 4MATIC   3,413 mi.     4.8   \n",
       "2428            2023 Mercedes-Benz GLA 250 Base   6,336 mi.     4.5   \n",
       "\n",
       "     Review Count      Price Model Year  \n",
       "0           1,800   $30,900        2021  \n",
       "1           1,239  $139,999        2022  \n",
       "2           1,239  $132,999        2022  \n",
       "3             752   $58,587        2020  \n",
       "4           1,502   $95,990        2021  \n",
       "...           ...        ...        ...  \n",
       "2424          236   $53,490        2021  \n",
       "2425        1,334   $89,599        2022  \n",
       "2426        2,375   $32,890        2021  \n",
       "2427        1,758   $53,983        2023  \n",
       "2428        2,057   $46,035        2023  \n",
       "\n",
       "[2429 rows x 6 columns]"
      ]
     },
     "execution_count": 6,
     "metadata": {},
     "output_type": "execute_result"
    }
   ],
   "source": [
    "data"
   ]
  },
  {
   "cell_type": "code",
   "execution_count": 7,
   "id": "e1980b70-346d-4ca5-a782-f418904e3291",
   "metadata": {},
   "outputs": [],
   "source": [
    "#Seperating string values from integers in dataset\n",
    "data['Mileage'] = data['Mileage'].str.replace(' mi.', '')\n",
    "data['Price'] = data['Price'].str.replace('$', '')"
   ]
  },
  {
   "cell_type": "code",
   "execution_count": 8,
   "id": "ffeac724-2c93-4002-8250-881f2eb66ce1",
   "metadata": {},
   "outputs": [],
   "source": [
    "#Renaming column for better Understanding\n",
    "data.rename(columns={'Mileage': 'Mileage (miles)'}, inplace=True)\n",
    "data.rename(columns={'Price' : 'Price_(US$)'}, inplace = True)"
   ]
  },
  {
   "cell_type": "code",
   "execution_count": 9,
   "id": "ef016dc7-6a6b-44a5-9a70-31471b31f569",
   "metadata": {},
   "outputs": [],
   "source": [
    "#removing commas from every row in dataset\n",
    "data['Mileage (miles)'] = data['Mileage (miles)'].str.replace(',', '')\n",
    "data['Review Count'] = data['Review Count'].str.replace(',', '')\n",
    "data['Price_(US$)'] = data['Price_(US$)'].str.replace(',', '')"
   ]
  },
  {
   "cell_type": "code",
   "execution_count": 10,
   "id": "77abe3e9-f932-499a-ba81-8929c8d636ab",
   "metadata": {},
   "outputs": [],
   "source": [
    "#Removing the year from the Name column using re\n",
    "data['Name'] = data['Name'].apply(lambda x: re.sub(r'\\b\\d{4}\\b\\s*', '', x).strip())"
   ]
  },
  {
   "cell_type": "code",
   "execution_count": 11,
   "id": "cbc5026b-abed-4317-a93e-4a9aee2307da",
   "metadata": {},
   "outputs": [
    {
     "data": {
      "text/plain": [
       "32"
      ]
     },
     "execution_count": 11,
     "metadata": {},
     "output_type": "execute_result"
    }
   ],
   "source": [
    "data.duplicated().sum()"
   ]
  },
  {
   "cell_type": "code",
   "execution_count": 12,
   "id": "aa33da50-d525-406a-b5fe-f2929887b091",
   "metadata": {},
   "outputs": [],
   "source": [
    "data = data.drop_duplicates()"
   ]
  },
  {
   "cell_type": "code",
   "execution_count": 13,
   "id": "776f3d0c-d1c3-4325-b674-f00ca549cb12",
   "metadata": {},
   "outputs": [
    {
     "data": {
      "text/plain": [
       "array(['Mercedes-Benz A-Class A 220 4MATIC',\n",
       "       'Mercedes-Benz AMG SL 63 Base',\n",
       "       'Mercedes-Benz AMG E 53 Base 4MATIC',\n",
       "       'Mercedes-Benz AMG GLS 63 Base 4MATIC',\n",
       "       'Mercedes-Benz GLE 350 Base 4MATIC', 'Mercedes-Benz AMG GT C',\n",
       "       'Mercedes-Benz AMG CLA 45 Base 4MATIC',\n",
       "       'Mercedes-Benz AMG GT 53 Base', 'Mercedes-Benz EQB 250 Base',\n",
       "       'Mercedes-Benz CLA 250 Base 4MATIC',\n",
       "       'Mercedes-Benz GLE 450 GLE 450', 'Mercedes-Benz SL 450 SL 450',\n",
       "       'Mercedes-Benz EQE 350 Base 4MATIC',\n",
       "       'Mercedes-Benz GLC 300 Base 4MATIC',\n",
       "       'Mercedes-Benz AMG GLC 43 4MATIC Coupe',\n",
       "       'Mercedes-Benz SLC 300 Base', 'Mercedes-Benz A-Class A 220',\n",
       "       'Mercedes-Benz SL 450 Base', 'Mercedes-Benz GLE 450 4MATIC',\n",
       "       'Mercedes-Benz EQS 450+ 450',\n",
       "       'Mercedes-Benz AMG CLA 45 AMG CLA 45 4MATIC',\n",
       "       'Mercedes-Benz AMG CLA 35 Base 4MATIC',\n",
       "       'Mercedes-Benz CLS 450 Base', 'Mercedes-Benz CLS 450 Base 4MATIC',\n",
       "       'Mercedes-Benz GLS 580 Base 4MATIC',\n",
       "       'Mercedes-Benz AMG CLS 53 4MATIC',\n",
       "       'Mercedes-Benz EQB 250 250 4D Sport Utility',\n",
       "       'Mercedes-Benz Maybach S 580 4MATIC', 'Mercedes-Benz GLB 250 Base',\n",
       "       'Mercedes-Benz GLS 450 Base 4MATIC',\n",
       "       'Mercedes-Benz AMG E 63 S 4MATIC', 'Mercedes-Benz GLE 580 4MATIC',\n",
       "       'Mercedes-Benz AMG C 63 S', 'Mercedes-Benz AMG G 63 4MATIC',\n",
       "       'Mercedes-Benz AMG GLE 53 Base',\n",
       "       'Mercedes-Benz Sprinter 144 WB ROOF',\n",
       "       'Mercedes-Benz AMG S 63 Base 4MATIC',\n",
       "       'Mercedes-Benz GLE 450 Plug-In Hybrid 4MATIC',\n",
       "       'Mercedes-Benz GLS 450 4MATIC',\n",
       "       'Mercedes-Benz G-Class G 550 4MATIC',\n",
       "       'Mercedes-Benz AMG C 43 Base 4MATIC',\n",
       "       'Mercedes-Benz AMG CLA 35 4MATIC',\n",
       "       'Mercedes-Benz GL-Class GL 450 4MATIC',\n",
       "       'Mercedes-Benz Metris Base', 'Mercedes-Benz AMG A 35 Base',\n",
       "       'Mercedes-Benz EQS 580 Base 4MATIC', 'Mercedes-Benz SL 550 SL550',\n",
       "       'Mercedes-Benz GLA 250 Base 4MATIC',\n",
       "       'Mercedes-Benz AMG E 53 4MATIC', 'Mercedes-Benz GLE 350 Base',\n",
       "       'Mercedes-Benz AMG GT 63 S 4-Door', 'Mercedes-Benz GLC 300 Base',\n",
       "       'Mercedes-Benz AMG GT 63 4-Door', 'Mercedes-Benz Maybach S S 600',\n",
       "       'Mercedes-Benz S-Class S 450', 'Mercedes-Benz GLA 250 Base',\n",
       "       'Mercedes-Benz E-Class E 350 4MATIC',\n",
       "       'Mercedes-Benz AMG S AMG S 63 4MATIC',\n",
       "       'Mercedes-Benz AMG GLE 63 S', 'Mercedes-Benz AMG GT R',\n",
       "       'Mercedes-Benz CLA 250 Base', 'Mercedes-Benz E-Class E 350',\n",
       "       'Mercedes-Benz AMG SL 43 4MATIC+',\n",
       "       'Mercedes-Benz AMG GLE 63 S 4MATIC Coupe',\n",
       "       'Mercedes-Benz E-Class 4MATIC', 'Mercedes-Benz EQB 350 4MATIC',\n",
       "       'Mercedes-Benz AMG GLC 63 Base 4MATIC',\n",
       "       'Mercedes-Benz S-Class S 550 4MATIC',\n",
       "       'Mercedes-Benz AMG GLE 43 Base 4MATIC',\n",
       "       'Mercedes-Benz Maybach S 650 Base',\n",
       "       'Mercedes-Benz GLE 450 Plug-In Hybrid Base 4MATIC',\n",
       "       'Mercedes-Benz AMG GLB 35 Base', 'Mercedes-Benz GLC-Class GLC 300',\n",
       "       'Mercedes-Benz Sprinter Standard Roof',\n",
       "       'Mercedes-Benz EQB 350 Base 4MATIC',\n",
       "       'Mercedes-Benz C-Class C 300 4MATIC',\n",
       "       'Mercedes-Benz GLS 580 4MATIC', 'Mercedes-Benz AMG E 53 E 53 AMG',\n",
       "       'Mercedes-Benz GLB 250 Base 4MATIC',\n",
       "       'Mercedes-Benz AMG CLS 53 Base 4MATIC',\n",
       "       'Mercedes-Benz EQE 350+ Base',\n",
       "       'Mercedes-Benz AMG GLC 43 Base 4MATIC', 'Mercedes-Benz AMG E 53',\n",
       "       'Mercedes-Benz AMG G 63 Base',\n",
       "       'Mercedes-Benz E-Class E 450 4MATIC',\n",
       "       'Mercedes-Benz AMG GLE 43 Coupe 4MATIC',\n",
       "       'Mercedes-Benz AMG SL 55 Base',\n",
       "       'Mercedes-Benz Maybach S 560 Base 4MATIC',\n",
       "       'Mercedes-Benz Maybach GLS 600 4MATIC',\n",
       "       'Mercedes-Benz AMG SLC 43 Base', 'Mercedes-Benz AMG GLE 53 4MATIC',\n",
       "       'Mercedes-Benz A-Class 4MATIC', 'Mercedes-Benz AMG GLA 45 Base',\n",
       "       'Mercedes-Benz AMG GLE 63 S-Model 4MATIC',\n",
       "       'Mercedes-Benz AMG GT 43 Base', 'Mercedes-Benz EQE 500 4MATIC',\n",
       "       'Mercedes-Benz GLB 250', 'Mercedes-Benz EQE 350 4MATIC',\n",
       "       'Mercedes-Benz AMG GLS 63 4MATIC',\n",
       "       'Mercedes-Benz S-Class S 500 4MATIC',\n",
       "       'Mercedes-Benz EQS 450+ 4MATIC', 'Mercedes-Benz C-Class C 300',\n",
       "       'Mercedes-Benz GLC 300', 'Mercedes-Benz C-Class 4MATIC Coupe',\n",
       "       'Mercedes-Benz G-Class', 'Mercedes-Benz AMG GLE 63 Base 4MATIC',\n",
       "       'Mercedes-Benz AMG GT Base', 'Mercedes-Benz S-Class 4MATIC',\n",
       "       'Mercedes-Benz AMG GT 53 AMG GT 53', 'Mercedes-Benz E-Class E 300',\n",
       "       'Mercedes-Benz E-Class E 63 AMG 4MATIC',\n",
       "       'Mercedes-Benz GLC 350e Base 4MATIC',\n",
       "       'Mercedes-Benz AMG GT AMG GT 43',\n",
       "       'Mercedes-Benz GLS 550 Base 4MATIC',\n",
       "       'Mercedes-Benz S-Class S 580 4MATIC',\n",
       "       'Mercedes-Benz EQB 300 4MATIC',\n",
       "       'Mercedes-Benz AMG GLE 53 4MATIC Coupe',\n",
       "       'Mercedes-Benz GLC 300 4MATIC Coupe',\n",
       "       'Mercedes-Benz EQB 300 Base 4MATIC',\n",
       "       'Mercedes-Benz EQE 500 Base 4MATIC',\n",
       "       'Mercedes-Benz EQS 450 Base 4MATIC', 'Mercedes-Benz GLE 350',\n",
       "       'Mercedes-Benz GLE 580 AWD 4MATIC',\n",
       "       'Mercedes-Benz GLC-Class GLC 300 4MATIC', 'Mercedes-Benz EQE 350+',\n",
       "       'Mercedes-Benz CLA 250', 'Mercedes-Benz AMG GLE 53',\n",
       "       'Mercedes-Benz AMG GLC 63 S 4MATIC',\n",
       "       'Mercedes-Benz AMG S 63 4MATIC', 'Mercedes-Benz AMG GLA 35 Base',\n",
       "       'Mercedes-Benz EQE 500', 'Mercedes-Benz AMG G 4MATIC',\n",
       "       'Mercedes-Benz E-Class E 450', 'Mercedes-Benz Sprinter 170 WB',\n",
       "       'Mercedes-Benz AMG GLS 63 Base',\n",
       "       'Mercedes-Benz GLE 400 Base 4MATIC', 'Mercedes-Benz GLS 450',\n",
       "       'Mercedes-Benz EQB 350 EQB 350', 'Mercedes-Benz AMG GLA 35',\n",
       "       'Mercedes-Benz AMG EQS Base', 'Mercedes-Benz EQS 450+',\n",
       "       'Mercedes-Benz AMG GLE 43 4MATIC Coupe',\n",
       "       'Mercedes-Benz Maybach GLS 600', 'Mercedes-Benz C-Class 4MATIC',\n",
       "       'Mercedes-Benz E-Class E 400 4MATIC',\n",
       "       'Mercedes-Benz AMG A 35 4MATIC', 'Mercedes-Benz AMG E 63',\n",
       "       'Mercedes-Benz EQS 450+ Base', 'Mercedes-Benz EQE 350+ 350+ SUV',\n",
       "       'Mercedes-Benz CLS 450', 'Mercedes-Benz SLK-Class SLK 250',\n",
       "       'Mercedes-Benz AMG GLB 35 4MATIC', 'Mercedes-Benz C-Class',\n",
       "       'Mercedes-Benz C-Class 4MATIC Sedan',\n",
       "       'Mercedes-Benz Sprinter 144 WB', 'Mercedes-Benz GLS 580',\n",
       "       'Mercedes-Benz EQB 250', 'Mercedes-Benz AMG GLE 43',\n",
       "       'Mercedes-Benz GLE 350 4MATIC', 'Mercedes-Benz AMG EQE Base',\n",
       "       'Mercedes-Benz EQB 350', 'Mercedes-Benz AMG GLE 63',\n",
       "       'Mercedes-Benz AMG GT AMG GT S',\n",
       "       'Mercedes-Benz S-Class S 560 4MATIC', 'Mercedes-Benz GLS 550',\n",
       "       'Mercedes-Benz EQE 350 350+ Sedan',\n",
       "       'Mercedes-Benz EQE 500 4MATIC+', 'Mercedes-Benz S-Class S 560',\n",
       "       'Mercedes-Benz GLA-Class GLA 250 4MATIC',\n",
       "       'Mercedes-Benz GLE 450 Base', 'Mercedes-Benz C-Class Sedan',\n",
       "       'Mercedes-Benz E-Class', 'Mercedes-Benz EQS 450',\n",
       "       'Mercedes-Benz AMG CLS 53 S-Model 4MATIC',\n",
       "       'Mercedes-Benz AMG GLE AMG GLE 63 S Coupe 4MATIC',\n",
       "       'Mercedes-Benz Sprinter M2CV4G', 'Mercedes-Benz AMG GLA 35 4MATIC',\n",
       "       'Mercedes-Benz AMG GT 53', 'Mercedes-Benz EQE 350 Base 4MATIC+',\n",
       "       'Mercedes-Benz S-Class', 'Mercedes-Benz AMG GLA 45 AMG GLA 45',\n",
       "       'Mercedes-Benz EQS 580 4MATIC', 'Mercedes-Benz GLA 250',\n",
       "       'Mercedes-Benz S-Class Base', 'Mercedes-Benz G-Class G 550',\n",
       "       'Mercedes-Benz GLA 250 4MATIC', 'Mercedes-Benz AMG GT 43 C',\n",
       "       'Mercedes-Benz AMG GT 63', 'Mercedes-Benz GLE 450 Base 4MATIC',\n",
       "       'Mercedes-Benz S-Class S 450 4MATIC',\n",
       "       'Mercedes-Benz S-Class S 580', 'Mercedes-Benz GLE 450',\n",
       "       'Mercedes-Benz GLE 450 AWD 4MATIC', 'Mercedes-Benz AMG CLA 35',\n",
       "       'Mercedes-Benz S-Class S 500',\n",
       "       'Mercedes-Benz Maybach S 680 4MATIC', 'Mercedes-Benz EQB 300',\n",
       "       'Mercedes-Benz AMG GLE 53 AMG GLE 53',\n",
       "       'Mercedes-Benz AMG GLC 43 4MATIC',\n",
       "       'Mercedes-Benz CLS-Class CLS 550', 'Mercedes-Benz AMG G 63',\n",
       "       'Mercedes-Benz E-Class E 400',\n",
       "       'Mercedes-Benz AMG GLE 63 S Coupe 4MATIC',\n",
       "       'Mercedes-Benz E-Class E 300 Sport',\n",
       "       'Mercedes-Benz AMG GLE 63 S-model',\n",
       "       'Mercedes-Benz CLA 250 CLA 250', 'Mercedes-Benz S-Class S 550',\n",
       "       'Mercedes-Benz AMG C 43 AMG C 43 4MATIC',\n",
       "       'Mercedes-Benz E-Class E 300 Luxury',\n",
       "       'Mercedes-Benz EQE 350+ 350+ Sedan', 'Mercedes-Benz AMG A 35',\n",
       "       'Mercedes-Benz E-Class E 350 Sedan',\n",
       "       'Mercedes-Benz GLC 300 4MATIC', 'Mercedes-Benz EQS 450 4MATIC',\n",
       "       'Mercedes-Benz Sprinter 144 WB Standard Roof Passenger',\n",
       "       'Mercedes-Benz A-Class', 'Mercedes-Benz AMG EQE 4MATIC',\n",
       "       'Mercedes-Benz GLB 250 4MATIC', 'Mercedes-Benz AMG GT 53 C',\n",
       "       'Mercedes-Benz AMG GLB 35'], dtype=object)"
      ]
     },
     "execution_count": 13,
     "metadata": {},
     "output_type": "execute_result"
    }
   ],
   "source": [
    "data.Name.unique()"
   ]
  },
  {
   "cell_type": "code",
   "execution_count": 14,
   "id": "976146c5-9055-4db8-8cbb-13415931fffe",
   "metadata": {},
   "outputs": [],
   "source": [
    "#Cleaning String Data(Name) to ensure more accurate model prediction\n",
    "def classify_name(Name):\n",
    "       if 'AMG' in Name:\n",
    "           return 'AMG'\n",
    "       elif 'A-Class' in Name:\n",
    "           return 'A-Class'\n",
    "       elif 'B-Class' in Name:\n",
    "           return 'B-Class'\n",
    "       elif 'C-Class' in Name:\n",
    "           return 'C-Class'\n",
    "       elif 'E-Class' in Name:\n",
    "           return 'E-Class'\n",
    "       elif 'EQ' in Name:\n",
    "           return 'Electric Vehicle Line'\n",
    "       elif 'G-Class' in Name:\n",
    "           return 'G-Class'\n",
    "       elif 'S-Class' in Name:\n",
    "           return 'S-Class'\n",
    "       elif 'Maybach' in Name:\n",
    "           return 'Maybach'\n",
    "       elif 'GLA' in Name:\n",
    "           return 'GLA-Class'\n",
    "       elif 'GLB' in Name:\n",
    "           return 'GLB-Class'\n",
    "       elif 'GLC' in Name:\n",
    "           return 'GLC-Class'\n",
    "       elif 'GLE' in Name:\n",
    "           return 'GLE-Class'\n",
    "       elif 'GLS' in Name:\n",
    "           return 'GLS-Class'\n",
    "       elif 'CLA' in Name:\n",
    "           return 'CLA-Class'\n",
    "       elif 'CLS' in Name:\n",
    "           return 'CLS-Class'\n",
    "       elif 'Sport' in Name:\n",
    "           return 'Sport'\n",
    "       else:\n",
    "           return 'Others'\n",
    "\n",
    "data['Category'] = data['Name'].apply(classify_name)\n",
    "\n",
    "#Data Card Used for Mercedes Benz Naming   Source: Claude AI\n",
    "\n",
    "#Mercedes-Benz organizes its vehicle lineup into several core categories. Here are the main categories of Mercedes-Benz cars:\n",
    "#1. A-Class: Compact cars\n",
    "#2. B-Class: Compact multi-purpose vehicles (MPVs)\n",
    "#3. C-Class: Compact executive cars\n",
    "#4. E-Class: Executive cars\n",
    "#5. S-Class: Full-size luxury cars\n",
    "#6. G-Class: Luxury SUVs (often referred to as the G-Wagen)\n",
    "#7. GLA-Class: Subcompact luxury crossover SUVs\n",
    "#8. GLB-Class: Compact luxury crossover SUVs\n",
    "#9. GLC-Class: Compact luxury SUVs\n",
    "#10. GLE-Class: Mid-size luxury SUVs\n",
    "#11. GLS-Class: Full-size luxury SUVs\n",
    "#12. CLA-Class: Subcompact executive cars\n",
    "#13. CLS-Class: Four-door coupés\n",
    "#14. AMG GT: High-performance sports cars\n",
    "#15. EQ: Electric vehicle line (includes models like EQA, EQB, EQC, EQS, etc.)\n",
    "#Additionally, Mercedes-Benz has some specialty categories:\n",
    "#16. Maybach: Ultra-luxury vehicles\n",
    "#17. AMG: High-performance versions of various models"
   ]
  },
  {
   "cell_type": "code",
   "execution_count": 15,
   "id": "8c95a813-2ca4-4511-b435-bc65407abd0f",
   "metadata": {},
   "outputs": [
    {
     "data": {
      "text/html": [
       "<div>\n",
       "<style scoped>\n",
       "    .dataframe tbody tr th:only-of-type {\n",
       "        vertical-align: middle;\n",
       "    }\n",
       "\n",
       "    .dataframe tbody tr th {\n",
       "        vertical-align: top;\n",
       "    }\n",
       "\n",
       "    .dataframe thead th {\n",
       "        text-align: right;\n",
       "    }\n",
       "</style>\n",
       "<table border=\"1\" class=\"dataframe\">\n",
       "  <thead>\n",
       "    <tr style=\"text-align: right;\">\n",
       "      <th></th>\n",
       "      <th>Name</th>\n",
       "      <th>Mileage (miles)</th>\n",
       "      <th>Rating</th>\n",
       "      <th>Review Count</th>\n",
       "      <th>Price_(US$)</th>\n",
       "      <th>Model Year</th>\n",
       "      <th>Category</th>\n",
       "    </tr>\n",
       "  </thead>\n",
       "  <tbody>\n",
       "    <tr>\n",
       "      <th>0</th>\n",
       "      <td>Mercedes-Benz A-Class A 220 4MATIC</td>\n",
       "      <td>29636</td>\n",
       "      <td>3.9</td>\n",
       "      <td>1800</td>\n",
       "      <td>30900</td>\n",
       "      <td>2021</td>\n",
       "      <td>A-Class</td>\n",
       "    </tr>\n",
       "    <tr>\n",
       "      <th>1</th>\n",
       "      <td>Mercedes-Benz AMG SL 63 Base</td>\n",
       "      <td>5540</td>\n",
       "      <td>4.7</td>\n",
       "      <td>1239</td>\n",
       "      <td>139999</td>\n",
       "      <td>2022</td>\n",
       "      <td>AMG</td>\n",
       "    </tr>\n",
       "    <tr>\n",
       "      <th>2</th>\n",
       "      <td>Mercedes-Benz AMG SL 63 Base</td>\n",
       "      <td>4890</td>\n",
       "      <td>4.7</td>\n",
       "      <td>1239</td>\n",
       "      <td>132999</td>\n",
       "      <td>2022</td>\n",
       "      <td>AMG</td>\n",
       "    </tr>\n",
       "    <tr>\n",
       "      <th>3</th>\n",
       "      <td>Mercedes-Benz AMG E 53 Base 4MATIC</td>\n",
       "      <td>29746</td>\n",
       "      <td>4.8</td>\n",
       "      <td>752</td>\n",
       "      <td>58587</td>\n",
       "      <td>2020</td>\n",
       "      <td>AMG</td>\n",
       "    </tr>\n",
       "    <tr>\n",
       "      <th>4</th>\n",
       "      <td>Mercedes-Benz AMG GLS 63 Base 4MATIC</td>\n",
       "      <td>32631</td>\n",
       "      <td>5.0</td>\n",
       "      <td>1502</td>\n",
       "      <td>95990</td>\n",
       "      <td>2021</td>\n",
       "      <td>AMG</td>\n",
       "    </tr>\n",
       "    <tr>\n",
       "      <th>...</th>\n",
       "      <td>...</td>\n",
       "      <td>...</td>\n",
       "      <td>...</td>\n",
       "      <td>...</td>\n",
       "      <td>...</td>\n",
       "      <td>...</td>\n",
       "      <td>...</td>\n",
       "    </tr>\n",
       "    <tr>\n",
       "      <th>2424</th>\n",
       "      <td>Mercedes-Benz E-Class E 450 4MATIC</td>\n",
       "      <td>54422</td>\n",
       "      <td>NaN</td>\n",
       "      <td>236</td>\n",
       "      <td>53490</td>\n",
       "      <td>2021</td>\n",
       "      <td>E-Class</td>\n",
       "    </tr>\n",
       "    <tr>\n",
       "      <th>2425</th>\n",
       "      <td>Mercedes-Benz S-Class 4MATIC</td>\n",
       "      <td>11395</td>\n",
       "      <td>4.5</td>\n",
       "      <td>1334</td>\n",
       "      <td>89599</td>\n",
       "      <td>2022</td>\n",
       "      <td>S-Class</td>\n",
       "    </tr>\n",
       "    <tr>\n",
       "      <th>2426</th>\n",
       "      <td>Mercedes-Benz GLB 250 Base 4MATIC</td>\n",
       "      <td>30392</td>\n",
       "      <td>4.9</td>\n",
       "      <td>2375</td>\n",
       "      <td>32890</td>\n",
       "      <td>2021</td>\n",
       "      <td>GLB-Class</td>\n",
       "    </tr>\n",
       "    <tr>\n",
       "      <th>2427</th>\n",
       "      <td>Mercedes-Benz E-Class E 450 4MATIC</td>\n",
       "      <td>3413</td>\n",
       "      <td>4.8</td>\n",
       "      <td>1758</td>\n",
       "      <td>53983</td>\n",
       "      <td>2023</td>\n",
       "      <td>E-Class</td>\n",
       "    </tr>\n",
       "    <tr>\n",
       "      <th>2428</th>\n",
       "      <td>Mercedes-Benz GLA 250 Base</td>\n",
       "      <td>6336</td>\n",
       "      <td>4.5</td>\n",
       "      <td>2057</td>\n",
       "      <td>46035</td>\n",
       "      <td>2023</td>\n",
       "      <td>GLA-Class</td>\n",
       "    </tr>\n",
       "  </tbody>\n",
       "</table>\n",
       "<p>2397 rows × 7 columns</p>\n",
       "</div>"
      ],
      "text/plain": [
       "                                      Name Mileage (miles)  Rating  \\\n",
       "0       Mercedes-Benz A-Class A 220 4MATIC           29636     3.9   \n",
       "1             Mercedes-Benz AMG SL 63 Base            5540     4.7   \n",
       "2             Mercedes-Benz AMG SL 63 Base            4890     4.7   \n",
       "3       Mercedes-Benz AMG E 53 Base 4MATIC           29746     4.8   \n",
       "4     Mercedes-Benz AMG GLS 63 Base 4MATIC           32631     5.0   \n",
       "...                                    ...             ...     ...   \n",
       "2424    Mercedes-Benz E-Class E 450 4MATIC           54422     NaN   \n",
       "2425          Mercedes-Benz S-Class 4MATIC           11395     4.5   \n",
       "2426     Mercedes-Benz GLB 250 Base 4MATIC           30392     4.9   \n",
       "2427    Mercedes-Benz E-Class E 450 4MATIC            3413     4.8   \n",
       "2428            Mercedes-Benz GLA 250 Base            6336     4.5   \n",
       "\n",
       "     Review Count Price_(US$) Model Year   Category  \n",
       "0            1800      30900        2021    A-Class  \n",
       "1            1239     139999        2022        AMG  \n",
       "2            1239     132999        2022        AMG  \n",
       "3             752      58587        2020        AMG  \n",
       "4            1502      95990        2021        AMG  \n",
       "...           ...         ...        ...        ...  \n",
       "2424          236      53490        2021    E-Class  \n",
       "2425         1334      89599        2022    S-Class  \n",
       "2426         2375      32890        2021  GLB-Class  \n",
       "2427         1758      53983        2023    E-Class  \n",
       "2428         2057      46035        2023  GLA-Class  \n",
       "\n",
       "[2397 rows x 7 columns]"
      ]
     },
     "execution_count": 15,
     "metadata": {},
     "output_type": "execute_result"
    }
   ],
   "source": [
    "data"
   ]
  },
  {
   "cell_type": "code",
   "execution_count": 16,
   "id": "6772c7de-ea89-4b24-8523-65b315f7448c",
   "metadata": {},
   "outputs": [
    {
     "data": {
      "text/plain": [
       "Category\n",
       "AMG                      389\n",
       "C-Class                  287\n",
       "GLE-Class                272\n",
       "GLB-Class                232\n",
       "GLC-Class                231\n",
       "Electric Vehicle Line    198\n",
       "E-Class                  176\n",
       "GLA-Class                151\n",
       "CLA-Class                141\n",
       "GLS-Class                108\n",
       "S-Class                   58\n",
       "A-Class                   52\n",
       "Others                    37\n",
       "CLS-Class                 25\n",
       "G-Class                   24\n",
       "Maybach                   16\n",
       "Name: count, dtype: int64"
      ]
     },
     "execution_count": 16,
     "metadata": {},
     "output_type": "execute_result"
    }
   ],
   "source": [
    "data.Category.value_counts()"
   ]
  },
  {
   "cell_type": "code",
   "execution_count": 17,
   "id": "208556af-6819-464c-8f38-de57723ca607",
   "metadata": {},
   "outputs": [
    {
     "data": {
      "text/html": [
       "<div>\n",
       "<style scoped>\n",
       "    .dataframe tbody tr th:only-of-type {\n",
       "        vertical-align: middle;\n",
       "    }\n",
       "\n",
       "    .dataframe tbody tr th {\n",
       "        vertical-align: top;\n",
       "    }\n",
       "\n",
       "    .dataframe thead th {\n",
       "        text-align: right;\n",
       "    }\n",
       "</style>\n",
       "<table border=\"1\" class=\"dataframe\">\n",
       "  <thead>\n",
       "    <tr style=\"text-align: right;\">\n",
       "      <th></th>\n",
       "      <th>Name</th>\n",
       "      <th>Mileage (miles)</th>\n",
       "      <th>Rating</th>\n",
       "      <th>Review Count</th>\n",
       "      <th>Price_(US$)</th>\n",
       "      <th>Model Year</th>\n",
       "      <th>Category</th>\n",
       "    </tr>\n",
       "  </thead>\n",
       "  <tbody>\n",
       "    <tr>\n",
       "      <th>0</th>\n",
       "      <td>Mercedes-Benz A-Class A 220 4MATIC</td>\n",
       "      <td>29636</td>\n",
       "      <td>3.9</td>\n",
       "      <td>1800</td>\n",
       "      <td>30900</td>\n",
       "      <td>2021</td>\n",
       "      <td>A-Class</td>\n",
       "    </tr>\n",
       "    <tr>\n",
       "      <th>1</th>\n",
       "      <td>Mercedes-Benz AMG SL 63 Base</td>\n",
       "      <td>5540</td>\n",
       "      <td>4.7</td>\n",
       "      <td>1239</td>\n",
       "      <td>139999</td>\n",
       "      <td>2022</td>\n",
       "      <td>AMG</td>\n",
       "    </tr>\n",
       "    <tr>\n",
       "      <th>2</th>\n",
       "      <td>Mercedes-Benz AMG SL 63 Base</td>\n",
       "      <td>4890</td>\n",
       "      <td>4.7</td>\n",
       "      <td>1239</td>\n",
       "      <td>132999</td>\n",
       "      <td>2022</td>\n",
       "      <td>AMG</td>\n",
       "    </tr>\n",
       "    <tr>\n",
       "      <th>3</th>\n",
       "      <td>Mercedes-Benz AMG E 53 Base 4MATIC</td>\n",
       "      <td>29746</td>\n",
       "      <td>4.8</td>\n",
       "      <td>752</td>\n",
       "      <td>58587</td>\n",
       "      <td>2020</td>\n",
       "      <td>AMG</td>\n",
       "    </tr>\n",
       "    <tr>\n",
       "      <th>4</th>\n",
       "      <td>Mercedes-Benz AMG GLS 63 Base 4MATIC</td>\n",
       "      <td>32631</td>\n",
       "      <td>5.0</td>\n",
       "      <td>1502</td>\n",
       "      <td>95990</td>\n",
       "      <td>2021</td>\n",
       "      <td>AMG</td>\n",
       "    </tr>\n",
       "    <tr>\n",
       "      <th>...</th>\n",
       "      <td>...</td>\n",
       "      <td>...</td>\n",
       "      <td>...</td>\n",
       "      <td>...</td>\n",
       "      <td>...</td>\n",
       "      <td>...</td>\n",
       "      <td>...</td>\n",
       "    </tr>\n",
       "    <tr>\n",
       "      <th>2424</th>\n",
       "      <td>Mercedes-Benz E-Class E 450 4MATIC</td>\n",
       "      <td>54422</td>\n",
       "      <td>NaN</td>\n",
       "      <td>236</td>\n",
       "      <td>53490</td>\n",
       "      <td>2021</td>\n",
       "      <td>E-Class</td>\n",
       "    </tr>\n",
       "    <tr>\n",
       "      <th>2425</th>\n",
       "      <td>Mercedes-Benz S-Class 4MATIC</td>\n",
       "      <td>11395</td>\n",
       "      <td>4.5</td>\n",
       "      <td>1334</td>\n",
       "      <td>89599</td>\n",
       "      <td>2022</td>\n",
       "      <td>S-Class</td>\n",
       "    </tr>\n",
       "    <tr>\n",
       "      <th>2426</th>\n",
       "      <td>Mercedes-Benz GLB 250 Base 4MATIC</td>\n",
       "      <td>30392</td>\n",
       "      <td>4.9</td>\n",
       "      <td>2375</td>\n",
       "      <td>32890</td>\n",
       "      <td>2021</td>\n",
       "      <td>GLB-Class</td>\n",
       "    </tr>\n",
       "    <tr>\n",
       "      <th>2427</th>\n",
       "      <td>Mercedes-Benz E-Class E 450 4MATIC</td>\n",
       "      <td>3413</td>\n",
       "      <td>4.8</td>\n",
       "      <td>1758</td>\n",
       "      <td>53983</td>\n",
       "      <td>2023</td>\n",
       "      <td>E-Class</td>\n",
       "    </tr>\n",
       "    <tr>\n",
       "      <th>2428</th>\n",
       "      <td>Mercedes-Benz GLA 250 Base</td>\n",
       "      <td>6336</td>\n",
       "      <td>4.5</td>\n",
       "      <td>2057</td>\n",
       "      <td>46035</td>\n",
       "      <td>2023</td>\n",
       "      <td>GLA-Class</td>\n",
       "    </tr>\n",
       "  </tbody>\n",
       "</table>\n",
       "<p>2397 rows × 7 columns</p>\n",
       "</div>"
      ],
      "text/plain": [
       "                                      Name Mileage (miles)  Rating  \\\n",
       "0       Mercedes-Benz A-Class A 220 4MATIC           29636     3.9   \n",
       "1             Mercedes-Benz AMG SL 63 Base            5540     4.7   \n",
       "2             Mercedes-Benz AMG SL 63 Base            4890     4.7   \n",
       "3       Mercedes-Benz AMG E 53 Base 4MATIC           29746     4.8   \n",
       "4     Mercedes-Benz AMG GLS 63 Base 4MATIC           32631     5.0   \n",
       "...                                    ...             ...     ...   \n",
       "2424    Mercedes-Benz E-Class E 450 4MATIC           54422     NaN   \n",
       "2425          Mercedes-Benz S-Class 4MATIC           11395     4.5   \n",
       "2426     Mercedes-Benz GLB 250 Base 4MATIC           30392     4.9   \n",
       "2427    Mercedes-Benz E-Class E 450 4MATIC            3413     4.8   \n",
       "2428            Mercedes-Benz GLA 250 Base            6336     4.5   \n",
       "\n",
       "     Review Count Price_(US$) Model Year   Category  \n",
       "0            1800      30900        2021    A-Class  \n",
       "1            1239     139999        2022        AMG  \n",
       "2            1239     132999        2022        AMG  \n",
       "3             752      58587        2020        AMG  \n",
       "4            1502      95990        2021        AMG  \n",
       "...           ...         ...        ...        ...  \n",
       "2424          236      53490        2021    E-Class  \n",
       "2425         1334      89599        2022    S-Class  \n",
       "2426         2375      32890        2021  GLB-Class  \n",
       "2427         1758      53983        2023    E-Class  \n",
       "2428         2057      46035        2023  GLA-Class  \n",
       "\n",
       "[2397 rows x 7 columns]"
      ]
     },
     "execution_count": 17,
     "metadata": {},
     "output_type": "execute_result"
    }
   ],
   "source": [
    "data"
   ]
  },
  {
   "cell_type": "code",
   "execution_count": 18,
   "id": "715eb713-b372-4ff8-ba0d-3b4eed08f1ed",
   "metadata": {},
   "outputs": [
    {
     "data": {
      "text/plain": [
       "Name                object\n",
       "Mileage (miles)     object\n",
       "Rating             float64\n",
       "Review Count        object\n",
       "Price_(US$)         object\n",
       "Model Year          object\n",
       "Category            object\n",
       "dtype: object"
      ]
     },
     "execution_count": 18,
     "metadata": {},
     "output_type": "execute_result"
    }
   ],
   "source": [
    "data.dtypes"
   ]
  },
  {
   "cell_type": "code",
   "execution_count": 19,
   "id": "5f16b146-326d-49c3-ac7f-53f33d06e599",
   "metadata": {},
   "outputs": [],
   "source": [
    "data['Mileage (miles)'] = data['Mileage (miles)'].astype(int)\n",
    "data['Model Year'] = data['Model Year'].astype('category')\n",
    "data['Category'] = data['Category'].astype('category')"
   ]
  },
  {
   "cell_type": "code",
   "execution_count": 20,
   "id": "5ec94582-50f2-4ace-a9af-90d3aa67c86d",
   "metadata": {},
   "outputs": [],
   "source": [
    "data['Review Count'] = pd.to_numeric(data['Review Count'], errors='coerce')"
   ]
  },
  {
   "cell_type": "code",
   "execution_count": 21,
   "id": "b6b0148d-6a8e-438f-b80c-6fb68cae2365",
   "metadata": {},
   "outputs": [],
   "source": [
    "data['Price_(US$)'] = pd.to_numeric(data['Price_(US$)'], errors='coerce')"
   ]
  },
  {
   "cell_type": "code",
   "execution_count": 22,
   "id": "754ad21c-8249-44f9-955c-696dd0b4e054",
   "metadata": {},
   "outputs": [],
   "source": [
    "data['Rating'] = pd.to_numeric(data['Rating'], errors='coerce')"
   ]
  },
  {
   "cell_type": "code",
   "execution_count": 23,
   "id": "075262cc-83d3-446a-9ac2-78496c69c4d2",
   "metadata": {},
   "outputs": [
    {
     "data": {
      "text/plain": [
       "Name                 object\n",
       "Mileage (miles)       int32\n",
       "Rating              float64\n",
       "Review Count        float64\n",
       "Price_(US$)           int64\n",
       "Model Year         category\n",
       "Category           category\n",
       "dtype: object"
      ]
     },
     "execution_count": 23,
     "metadata": {},
     "output_type": "execute_result"
    }
   ],
   "source": [
    "data.dtypes"
   ]
  },
  {
   "cell_type": "code",
   "execution_count": 24,
   "id": "a0953da8-d49a-45c6-be35-17cf3abb2b37",
   "metadata": {},
   "outputs": [
    {
     "data": {
      "text/plain": [
       "Name                 0\n",
       "Mileage (miles)      0\n",
       "Rating             292\n",
       "Review Count        31\n",
       "Price_(US$)          0\n",
       "Model Year           0\n",
       "Category             0\n",
       "dtype: int64"
      ]
     },
     "execution_count": 24,
     "metadata": {},
     "output_type": "execute_result"
    }
   ],
   "source": [
    "data.isnull().sum()"
   ]
  },
  {
   "cell_type": "code",
   "execution_count": 25,
   "id": "68cd08af-65de-4114-a094-1f9ae313f194",
   "metadata": {},
   "outputs": [],
   "source": [
    "data = data.drop('Name', axis = 1)"
   ]
  },
  {
   "cell_type": "code",
   "execution_count": 26,
   "id": "25e49462-922a-499c-a0a7-3f6c190387e0",
   "metadata": {},
   "outputs": [],
   "source": [
    "#Importing Pipeline Libraries\n",
    "from sklearn.pipeline import Pipeline\n",
    "from sklearn.impute import SimpleImputer\n",
    "from sklearn.preprocessing import OneHotEncoder\n",
    "from sklearn.compose import ColumnTransformer\n",
    "from sklearn.preprocessing import StandardScaler"
   ]
  },
  {
   "cell_type": "code",
   "execution_count": 27,
   "id": "37cd5859-9d19-4fa1-b363-1cf9ee819cc0",
   "metadata": {},
   "outputs": [],
   "source": [
    "X = data.drop('Price_(US$)', axis = 1)\n",
    "y = data['Price_(US$)']"
   ]
  },
  {
   "cell_type": "code",
   "execution_count": 28,
   "id": "a749a0c1-fbdb-4554-a217-697e0df44483",
   "metadata": {},
   "outputs": [
    {
     "data": {
      "text/html": [
       "<div>\n",
       "<style scoped>\n",
       "    .dataframe tbody tr th:only-of-type {\n",
       "        vertical-align: middle;\n",
       "    }\n",
       "\n",
       "    .dataframe tbody tr th {\n",
       "        vertical-align: top;\n",
       "    }\n",
       "\n",
       "    .dataframe thead th {\n",
       "        text-align: right;\n",
       "    }\n",
       "</style>\n",
       "<table border=\"1\" class=\"dataframe\">\n",
       "  <thead>\n",
       "    <tr style=\"text-align: right;\">\n",
       "      <th></th>\n",
       "      <th>Mileage (miles)</th>\n",
       "      <th>Rating</th>\n",
       "      <th>Review Count</th>\n",
       "      <th>Model Year</th>\n",
       "      <th>Category</th>\n",
       "    </tr>\n",
       "  </thead>\n",
       "  <tbody>\n",
       "    <tr>\n",
       "      <th>0</th>\n",
       "      <td>29636</td>\n",
       "      <td>3.9</td>\n",
       "      <td>1800.0</td>\n",
       "      <td>2021</td>\n",
       "      <td>A-Class</td>\n",
       "    </tr>\n",
       "    <tr>\n",
       "      <th>1</th>\n",
       "      <td>5540</td>\n",
       "      <td>4.7</td>\n",
       "      <td>1239.0</td>\n",
       "      <td>2022</td>\n",
       "      <td>AMG</td>\n",
       "    </tr>\n",
       "    <tr>\n",
       "      <th>2</th>\n",
       "      <td>4890</td>\n",
       "      <td>4.7</td>\n",
       "      <td>1239.0</td>\n",
       "      <td>2022</td>\n",
       "      <td>AMG</td>\n",
       "    </tr>\n",
       "    <tr>\n",
       "      <th>3</th>\n",
       "      <td>29746</td>\n",
       "      <td>4.8</td>\n",
       "      <td>752.0</td>\n",
       "      <td>2020</td>\n",
       "      <td>AMG</td>\n",
       "    </tr>\n",
       "    <tr>\n",
       "      <th>4</th>\n",
       "      <td>32631</td>\n",
       "      <td>5.0</td>\n",
       "      <td>1502.0</td>\n",
       "      <td>2021</td>\n",
       "      <td>AMG</td>\n",
       "    </tr>\n",
       "    <tr>\n",
       "      <th>...</th>\n",
       "      <td>...</td>\n",
       "      <td>...</td>\n",
       "      <td>...</td>\n",
       "      <td>...</td>\n",
       "      <td>...</td>\n",
       "    </tr>\n",
       "    <tr>\n",
       "      <th>2424</th>\n",
       "      <td>54422</td>\n",
       "      <td>NaN</td>\n",
       "      <td>236.0</td>\n",
       "      <td>2021</td>\n",
       "      <td>E-Class</td>\n",
       "    </tr>\n",
       "    <tr>\n",
       "      <th>2425</th>\n",
       "      <td>11395</td>\n",
       "      <td>4.5</td>\n",
       "      <td>1334.0</td>\n",
       "      <td>2022</td>\n",
       "      <td>S-Class</td>\n",
       "    </tr>\n",
       "    <tr>\n",
       "      <th>2426</th>\n",
       "      <td>30392</td>\n",
       "      <td>4.9</td>\n",
       "      <td>2375.0</td>\n",
       "      <td>2021</td>\n",
       "      <td>GLB-Class</td>\n",
       "    </tr>\n",
       "    <tr>\n",
       "      <th>2427</th>\n",
       "      <td>3413</td>\n",
       "      <td>4.8</td>\n",
       "      <td>1758.0</td>\n",
       "      <td>2023</td>\n",
       "      <td>E-Class</td>\n",
       "    </tr>\n",
       "    <tr>\n",
       "      <th>2428</th>\n",
       "      <td>6336</td>\n",
       "      <td>4.5</td>\n",
       "      <td>2057.0</td>\n",
       "      <td>2023</td>\n",
       "      <td>GLA-Class</td>\n",
       "    </tr>\n",
       "  </tbody>\n",
       "</table>\n",
       "<p>2397 rows × 5 columns</p>\n",
       "</div>"
      ],
      "text/plain": [
       "      Mileage (miles)  Rating  Review Count Model Year   Category\n",
       "0               29636     3.9        1800.0       2021    A-Class\n",
       "1                5540     4.7        1239.0       2022        AMG\n",
       "2                4890     4.7        1239.0       2022        AMG\n",
       "3               29746     4.8         752.0       2020        AMG\n",
       "4               32631     5.0        1502.0       2021        AMG\n",
       "...               ...     ...           ...        ...        ...\n",
       "2424            54422     NaN         236.0       2021    E-Class\n",
       "2425            11395     4.5        1334.0       2022    S-Class\n",
       "2426            30392     4.9        2375.0       2021  GLB-Class\n",
       "2427             3413     4.8        1758.0       2023    E-Class\n",
       "2428             6336     4.5        2057.0       2023  GLA-Class\n",
       "\n",
       "[2397 rows x 5 columns]"
      ]
     },
     "execution_count": 28,
     "metadata": {},
     "output_type": "execute_result"
    }
   ],
   "source": [
    "X"
   ]
  },
  {
   "cell_type": "code",
   "execution_count": 29,
   "id": "75fbb76b-9295-44d6-87df-d7ba728ca130",
   "metadata": {},
   "outputs": [
    {
     "data": {
      "text/plain": [
       "0        30900\n",
       "1       139999\n",
       "2       132999\n",
       "3        58587\n",
       "4        95990\n",
       "         ...  \n",
       "2424     53490\n",
       "2425     89599\n",
       "2426     32890\n",
       "2427     53983\n",
       "2428     46035\n",
       "Name: Price_(US$), Length: 2397, dtype: int64"
      ]
     },
     "execution_count": 29,
     "metadata": {},
     "output_type": "execute_result"
    }
   ],
   "source": [
    "y"
   ]
  },
  {
   "cell_type": "code",
   "execution_count": 30,
   "id": "c5eeddc2-72ef-4a70-a6b7-b9672f219b4b",
   "metadata": {},
   "outputs": [],
   "source": [
    "#Splitting into Categoorical and Numerical columns for pipeline fitting and transformation\n",
    "numerical_col = ['Mileage (miles)', 'Rating', 'Review Count']\n",
    "\n",
    "categorical_col = ['Model Year', 'Category']"
   ]
  },
  {
   "cell_type": "markdown",
   "id": "59cb664f-480f-49c8-8761-7175d8cb82a9",
   "metadata": {},
   "source": [
    "                                                                BUILDING DATA PIPELINE"
   ]
  },
  {
   "cell_type": "code",
   "execution_count": 31,
   "id": "c12c4120-fef8-4121-a5ba-f53da9532281",
   "metadata": {},
   "outputs": [],
   "source": [
    "numerical_pipe = Pipeline(steps = [('impute', SimpleImputer(strategy = 'mean')),\n",
    "                                  ('scaler', StandardScaler(copy=True, with_mean=True, with_std=True))])\n",
    "categorical_pipe = Pipeline(steps = [('encode', OneHotEncoder(handle_unknown = 'ignore', sparse_output = False))]) "
   ]
  },
  {
   "cell_type": "code",
   "execution_count": 32,
   "id": "ca0a6c20-726d-4c20-8f63-571d109d811f",
   "metadata": {},
   "outputs": [],
   "source": [
    "preprocessor = ColumnTransformer(\n",
    "    transformers = [('num',numerical_pipe, numerical_col),\n",
    "                 ('cat', categorical_pipe, categorical_col)])"
   ]
  },
  {
   "cell_type": "code",
   "execution_count": 33,
   "id": "896ef7b8-1ee6-4dc8-b810-0d035ea401d1",
   "metadata": {},
   "outputs": [
    {
     "data": {
      "text/html": [
       "<style>#sk-container-id-1 {color: black;background-color: white;}#sk-container-id-1 pre{padding: 0;}#sk-container-id-1 div.sk-toggleable {background-color: white;}#sk-container-id-1 label.sk-toggleable__label {cursor: pointer;display: block;width: 100%;margin-bottom: 0;padding: 0.3em;box-sizing: border-box;text-align: center;}#sk-container-id-1 label.sk-toggleable__label-arrow:before {content: \"▸\";float: left;margin-right: 0.25em;color: #696969;}#sk-container-id-1 label.sk-toggleable__label-arrow:hover:before {color: black;}#sk-container-id-1 div.sk-estimator:hover label.sk-toggleable__label-arrow:before {color: black;}#sk-container-id-1 div.sk-toggleable__content {max-height: 0;max-width: 0;overflow: hidden;text-align: left;background-color: #f0f8ff;}#sk-container-id-1 div.sk-toggleable__content pre {margin: 0.2em;color: black;border-radius: 0.25em;background-color: #f0f8ff;}#sk-container-id-1 input.sk-toggleable__control:checked~div.sk-toggleable__content {max-height: 200px;max-width: 100%;overflow: auto;}#sk-container-id-1 input.sk-toggleable__control:checked~label.sk-toggleable__label-arrow:before {content: \"▾\";}#sk-container-id-1 div.sk-estimator input.sk-toggleable__control:checked~label.sk-toggleable__label {background-color: #d4ebff;}#sk-container-id-1 div.sk-label input.sk-toggleable__control:checked~label.sk-toggleable__label {background-color: #d4ebff;}#sk-container-id-1 input.sk-hidden--visually {border: 0;clip: rect(1px 1px 1px 1px);clip: rect(1px, 1px, 1px, 1px);height: 1px;margin: -1px;overflow: hidden;padding: 0;position: absolute;width: 1px;}#sk-container-id-1 div.sk-estimator {font-family: monospace;background-color: #f0f8ff;border: 1px dotted black;border-radius: 0.25em;box-sizing: border-box;margin-bottom: 0.5em;}#sk-container-id-1 div.sk-estimator:hover {background-color: #d4ebff;}#sk-container-id-1 div.sk-parallel-item::after {content: \"\";width: 100%;border-bottom: 1px solid gray;flex-grow: 1;}#sk-container-id-1 div.sk-label:hover label.sk-toggleable__label {background-color: #d4ebff;}#sk-container-id-1 div.sk-serial::before {content: \"\";position: absolute;border-left: 1px solid gray;box-sizing: border-box;top: 0;bottom: 0;left: 50%;z-index: 0;}#sk-container-id-1 div.sk-serial {display: flex;flex-direction: column;align-items: center;background-color: white;padding-right: 0.2em;padding-left: 0.2em;position: relative;}#sk-container-id-1 div.sk-item {position: relative;z-index: 1;}#sk-container-id-1 div.sk-parallel {display: flex;align-items: stretch;justify-content: center;background-color: white;position: relative;}#sk-container-id-1 div.sk-item::before, #sk-container-id-1 div.sk-parallel-item::before {content: \"\";position: absolute;border-left: 1px solid gray;box-sizing: border-box;top: 0;bottom: 0;left: 50%;z-index: -1;}#sk-container-id-1 div.sk-parallel-item {display: flex;flex-direction: column;z-index: 1;position: relative;background-color: white;}#sk-container-id-1 div.sk-parallel-item:first-child::after {align-self: flex-end;width: 50%;}#sk-container-id-1 div.sk-parallel-item:last-child::after {align-self: flex-start;width: 50%;}#sk-container-id-1 div.sk-parallel-item:only-child::after {width: 0;}#sk-container-id-1 div.sk-dashed-wrapped {border: 1px dashed gray;margin: 0 0.4em 0.5em 0.4em;box-sizing: border-box;padding-bottom: 0.4em;background-color: white;}#sk-container-id-1 div.sk-label label {font-family: monospace;font-weight: bold;display: inline-block;line-height: 1.2em;}#sk-container-id-1 div.sk-label-container {text-align: center;}#sk-container-id-1 div.sk-container {/* jupyter's `normalize.less` sets `[hidden] { display: none; }` but bootstrap.min.css set `[hidden] { display: none !important; }` so we also need the `!important` here to be able to override the default hidden behavior on the sphinx rendered scikit-learn.org. See: https://github.com/scikit-learn/scikit-learn/issues/21755 */display: inline-block !important;position: relative;}#sk-container-id-1 div.sk-text-repr-fallback {display: none;}</style><div id=\"sk-container-id-1\" class=\"sk-top-container\"><div class=\"sk-text-repr-fallback\"><pre>ColumnTransformer(transformers=[(&#x27;num&#x27;,\n",
       "                                 Pipeline(steps=[(&#x27;impute&#x27;, SimpleImputer()),\n",
       "                                                 (&#x27;scaler&#x27;, StandardScaler())]),\n",
       "                                 [&#x27;Mileage (miles)&#x27;, &#x27;Rating&#x27;, &#x27;Review Count&#x27;]),\n",
       "                                (&#x27;cat&#x27;,\n",
       "                                 Pipeline(steps=[(&#x27;encode&#x27;,\n",
       "                                                  OneHotEncoder(handle_unknown=&#x27;ignore&#x27;,\n",
       "                                                                sparse_output=False))]),\n",
       "                                 [&#x27;Model Year&#x27;, &#x27;Category&#x27;])])</pre><b>In a Jupyter environment, please rerun this cell to show the HTML representation or trust the notebook. <br />On GitHub, the HTML representation is unable to render, please try loading this page with nbviewer.org.</b></div><div class=\"sk-container\" hidden><div class=\"sk-item sk-dashed-wrapped\"><div class=\"sk-label-container\"><div class=\"sk-label sk-toggleable\"><input class=\"sk-toggleable__control sk-hidden--visually\" id=\"sk-estimator-id-1\" type=\"checkbox\" ><label for=\"sk-estimator-id-1\" class=\"sk-toggleable__label sk-toggleable__label-arrow\">ColumnTransformer</label><div class=\"sk-toggleable__content\"><pre>ColumnTransformer(transformers=[(&#x27;num&#x27;,\n",
       "                                 Pipeline(steps=[(&#x27;impute&#x27;, SimpleImputer()),\n",
       "                                                 (&#x27;scaler&#x27;, StandardScaler())]),\n",
       "                                 [&#x27;Mileage (miles)&#x27;, &#x27;Rating&#x27;, &#x27;Review Count&#x27;]),\n",
       "                                (&#x27;cat&#x27;,\n",
       "                                 Pipeline(steps=[(&#x27;encode&#x27;,\n",
       "                                                  OneHotEncoder(handle_unknown=&#x27;ignore&#x27;,\n",
       "                                                                sparse_output=False))]),\n",
       "                                 [&#x27;Model Year&#x27;, &#x27;Category&#x27;])])</pre></div></div></div><div class=\"sk-parallel\"><div class=\"sk-parallel-item\"><div class=\"sk-item\"><div class=\"sk-label-container\"><div class=\"sk-label sk-toggleable\"><input class=\"sk-toggleable__control sk-hidden--visually\" id=\"sk-estimator-id-2\" type=\"checkbox\" ><label for=\"sk-estimator-id-2\" class=\"sk-toggleable__label sk-toggleable__label-arrow\">num</label><div class=\"sk-toggleable__content\"><pre>[&#x27;Mileage (miles)&#x27;, &#x27;Rating&#x27;, &#x27;Review Count&#x27;]</pre></div></div></div><div class=\"sk-serial\"><div class=\"sk-item\"><div class=\"sk-serial\"><div class=\"sk-item\"><div class=\"sk-estimator sk-toggleable\"><input class=\"sk-toggleable__control sk-hidden--visually\" id=\"sk-estimator-id-3\" type=\"checkbox\" ><label for=\"sk-estimator-id-3\" class=\"sk-toggleable__label sk-toggleable__label-arrow\">SimpleImputer</label><div class=\"sk-toggleable__content\"><pre>SimpleImputer()</pre></div></div></div><div class=\"sk-item\"><div class=\"sk-estimator sk-toggleable\"><input class=\"sk-toggleable__control sk-hidden--visually\" id=\"sk-estimator-id-4\" type=\"checkbox\" ><label for=\"sk-estimator-id-4\" class=\"sk-toggleable__label sk-toggleable__label-arrow\">StandardScaler</label><div class=\"sk-toggleable__content\"><pre>StandardScaler()</pre></div></div></div></div></div></div></div></div><div class=\"sk-parallel-item\"><div class=\"sk-item\"><div class=\"sk-label-container\"><div class=\"sk-label sk-toggleable\"><input class=\"sk-toggleable__control sk-hidden--visually\" id=\"sk-estimator-id-5\" type=\"checkbox\" ><label for=\"sk-estimator-id-5\" class=\"sk-toggleable__label sk-toggleable__label-arrow\">cat</label><div class=\"sk-toggleable__content\"><pre>[&#x27;Model Year&#x27;, &#x27;Category&#x27;]</pre></div></div></div><div class=\"sk-serial\"><div class=\"sk-item\"><div class=\"sk-serial\"><div class=\"sk-item\"><div class=\"sk-estimator sk-toggleable\"><input class=\"sk-toggleable__control sk-hidden--visually\" id=\"sk-estimator-id-6\" type=\"checkbox\" ><label for=\"sk-estimator-id-6\" class=\"sk-toggleable__label sk-toggleable__label-arrow\">OneHotEncoder</label><div class=\"sk-toggleable__content\"><pre>OneHotEncoder(handle_unknown=&#x27;ignore&#x27;, sparse_output=False)</pre></div></div></div></div></div></div></div></div></div></div></div></div>"
      ],
      "text/plain": [
       "ColumnTransformer(transformers=[('num',\n",
       "                                 Pipeline(steps=[('impute', SimpleImputer()),\n",
       "                                                 ('scaler', StandardScaler())]),\n",
       "                                 ['Mileage (miles)', 'Rating', 'Review Count']),\n",
       "                                ('cat',\n",
       "                                 Pipeline(steps=[('encode',\n",
       "                                                  OneHotEncoder(handle_unknown='ignore',\n",
       "                                                                sparse_output=False))]),\n",
       "                                 ['Model Year', 'Category'])])"
      ]
     },
     "execution_count": 33,
     "metadata": {},
     "output_type": "execute_result"
    }
   ],
   "source": [
    "preprocessor"
   ]
  },
  {
   "cell_type": "code",
   "execution_count": 34,
   "id": "73f1323c-6307-47f3-a078-1e4dcef0975f",
   "metadata": {},
   "outputs": [],
   "source": [
    "X_train, X_test, y_train, y_test = train_test_split(X, y, test_size = 0.35)"
   ]
  },
  {
   "cell_type": "code",
   "execution_count": 35,
   "id": "f56d1258-da2b-44d2-924e-d2534f0865f3",
   "metadata": {},
   "outputs": [],
   "source": [
    "X_train_ = preprocessor.fit_transform(X_train)\n",
    "X_test_ = preprocessor.transform(X_test)"
   ]
  },
  {
   "cell_type": "markdown",
   "id": "26c2d43c-3987-417b-96fd-fa0d639abcc9",
   "metadata": {},
   "source": [
    "                                                      EXPERIMENTING WITH VARIOUS MODELS "
   ]
  },
  {
   "cell_type": "code",
   "execution_count": 36,
   "id": "45be5cdb-3393-4a3d-b127-605c67bc02af",
   "metadata": {},
   "outputs": [],
   "source": [
    "from sklearn.ensemble import GradientBoostingRegressor"
   ]
  },
  {
   "cell_type": "code",
   "execution_count": 37,
   "id": "0cd874a2-54bc-48f1-9a86-2a5f96e4c1c2",
   "metadata": {},
   "outputs": [],
   "source": [
    "gr = GradientBoostingRegressor()"
   ]
  },
  {
   "cell_type": "code",
   "execution_count": 38,
   "id": "1777945c-6eef-4343-b974-e2fbb2eafd85",
   "metadata": {},
   "outputs": [
    {
     "data": {
      "text/html": [
       "<style>#sk-container-id-2 {color: black;background-color: white;}#sk-container-id-2 pre{padding: 0;}#sk-container-id-2 div.sk-toggleable {background-color: white;}#sk-container-id-2 label.sk-toggleable__label {cursor: pointer;display: block;width: 100%;margin-bottom: 0;padding: 0.3em;box-sizing: border-box;text-align: center;}#sk-container-id-2 label.sk-toggleable__label-arrow:before {content: \"▸\";float: left;margin-right: 0.25em;color: #696969;}#sk-container-id-2 label.sk-toggleable__label-arrow:hover:before {color: black;}#sk-container-id-2 div.sk-estimator:hover label.sk-toggleable__label-arrow:before {color: black;}#sk-container-id-2 div.sk-toggleable__content {max-height: 0;max-width: 0;overflow: hidden;text-align: left;background-color: #f0f8ff;}#sk-container-id-2 div.sk-toggleable__content pre {margin: 0.2em;color: black;border-radius: 0.25em;background-color: #f0f8ff;}#sk-container-id-2 input.sk-toggleable__control:checked~div.sk-toggleable__content {max-height: 200px;max-width: 100%;overflow: auto;}#sk-container-id-2 input.sk-toggleable__control:checked~label.sk-toggleable__label-arrow:before {content: \"▾\";}#sk-container-id-2 div.sk-estimator input.sk-toggleable__control:checked~label.sk-toggleable__label {background-color: #d4ebff;}#sk-container-id-2 div.sk-label input.sk-toggleable__control:checked~label.sk-toggleable__label {background-color: #d4ebff;}#sk-container-id-2 input.sk-hidden--visually {border: 0;clip: rect(1px 1px 1px 1px);clip: rect(1px, 1px, 1px, 1px);height: 1px;margin: -1px;overflow: hidden;padding: 0;position: absolute;width: 1px;}#sk-container-id-2 div.sk-estimator {font-family: monospace;background-color: #f0f8ff;border: 1px dotted black;border-radius: 0.25em;box-sizing: border-box;margin-bottom: 0.5em;}#sk-container-id-2 div.sk-estimator:hover {background-color: #d4ebff;}#sk-container-id-2 div.sk-parallel-item::after {content: \"\";width: 100%;border-bottom: 1px solid gray;flex-grow: 1;}#sk-container-id-2 div.sk-label:hover label.sk-toggleable__label {background-color: #d4ebff;}#sk-container-id-2 div.sk-serial::before {content: \"\";position: absolute;border-left: 1px solid gray;box-sizing: border-box;top: 0;bottom: 0;left: 50%;z-index: 0;}#sk-container-id-2 div.sk-serial {display: flex;flex-direction: column;align-items: center;background-color: white;padding-right: 0.2em;padding-left: 0.2em;position: relative;}#sk-container-id-2 div.sk-item {position: relative;z-index: 1;}#sk-container-id-2 div.sk-parallel {display: flex;align-items: stretch;justify-content: center;background-color: white;position: relative;}#sk-container-id-2 div.sk-item::before, #sk-container-id-2 div.sk-parallel-item::before {content: \"\";position: absolute;border-left: 1px solid gray;box-sizing: border-box;top: 0;bottom: 0;left: 50%;z-index: -1;}#sk-container-id-2 div.sk-parallel-item {display: flex;flex-direction: column;z-index: 1;position: relative;background-color: white;}#sk-container-id-2 div.sk-parallel-item:first-child::after {align-self: flex-end;width: 50%;}#sk-container-id-2 div.sk-parallel-item:last-child::after {align-self: flex-start;width: 50%;}#sk-container-id-2 div.sk-parallel-item:only-child::after {width: 0;}#sk-container-id-2 div.sk-dashed-wrapped {border: 1px dashed gray;margin: 0 0.4em 0.5em 0.4em;box-sizing: border-box;padding-bottom: 0.4em;background-color: white;}#sk-container-id-2 div.sk-label label {font-family: monospace;font-weight: bold;display: inline-block;line-height: 1.2em;}#sk-container-id-2 div.sk-label-container {text-align: center;}#sk-container-id-2 div.sk-container {/* jupyter's `normalize.less` sets `[hidden] { display: none; }` but bootstrap.min.css set `[hidden] { display: none !important; }` so we also need the `!important` here to be able to override the default hidden behavior on the sphinx rendered scikit-learn.org. See: https://github.com/scikit-learn/scikit-learn/issues/21755 */display: inline-block !important;position: relative;}#sk-container-id-2 div.sk-text-repr-fallback {display: none;}</style><div id=\"sk-container-id-2\" class=\"sk-top-container\"><div class=\"sk-text-repr-fallback\"><pre>GradientBoostingRegressor()</pre><b>In a Jupyter environment, please rerun this cell to show the HTML representation or trust the notebook. <br />On GitHub, the HTML representation is unable to render, please try loading this page with nbviewer.org.</b></div><div class=\"sk-container\" hidden><div class=\"sk-item\"><div class=\"sk-estimator sk-toggleable\"><input class=\"sk-toggleable__control sk-hidden--visually\" id=\"sk-estimator-id-7\" type=\"checkbox\" checked><label for=\"sk-estimator-id-7\" class=\"sk-toggleable__label sk-toggleable__label-arrow\">GradientBoostingRegressor</label><div class=\"sk-toggleable__content\"><pre>GradientBoostingRegressor()</pre></div></div></div></div></div>"
      ],
      "text/plain": [
       "GradientBoostingRegressor()"
      ]
     },
     "execution_count": 38,
     "metadata": {},
     "output_type": "execute_result"
    }
   ],
   "source": [
    "gr.fit(X_train_,y_train)"
   ]
  },
  {
   "cell_type": "code",
   "execution_count": 39,
   "id": "842d7c93-6466-4b7f-a488-92df388009b2",
   "metadata": {},
   "outputs": [
    {
     "data": {
      "text/plain": [
       "0.6026455144778763"
      ]
     },
     "execution_count": 39,
     "metadata": {},
     "output_type": "execute_result"
    }
   ],
   "source": [
    "gr.score(X_test_, y_test)"
   ]
  },
  {
   "cell_type": "code",
   "execution_count": 40,
   "id": "1d3c11c7-f1a6-41b4-b3c4-d1978b0191b4",
   "metadata": {},
   "outputs": [],
   "source": [
    "from sklearn.linear_model import LinearRegression\n",
    "\n",
    "lin = LinearRegression()"
   ]
  },
  {
   "cell_type": "code",
   "execution_count": 41,
   "id": "d8378b86-59b5-4488-ac93-b0940b17d0af",
   "metadata": {},
   "outputs": [
    {
     "data": {
      "text/html": [
       "<style>#sk-container-id-3 {color: black;background-color: white;}#sk-container-id-3 pre{padding: 0;}#sk-container-id-3 div.sk-toggleable {background-color: white;}#sk-container-id-3 label.sk-toggleable__label {cursor: pointer;display: block;width: 100%;margin-bottom: 0;padding: 0.3em;box-sizing: border-box;text-align: center;}#sk-container-id-3 label.sk-toggleable__label-arrow:before {content: \"▸\";float: left;margin-right: 0.25em;color: #696969;}#sk-container-id-3 label.sk-toggleable__label-arrow:hover:before {color: black;}#sk-container-id-3 div.sk-estimator:hover label.sk-toggleable__label-arrow:before {color: black;}#sk-container-id-3 div.sk-toggleable__content {max-height: 0;max-width: 0;overflow: hidden;text-align: left;background-color: #f0f8ff;}#sk-container-id-3 div.sk-toggleable__content pre {margin: 0.2em;color: black;border-radius: 0.25em;background-color: #f0f8ff;}#sk-container-id-3 input.sk-toggleable__control:checked~div.sk-toggleable__content {max-height: 200px;max-width: 100%;overflow: auto;}#sk-container-id-3 input.sk-toggleable__control:checked~label.sk-toggleable__label-arrow:before {content: \"▾\";}#sk-container-id-3 div.sk-estimator input.sk-toggleable__control:checked~label.sk-toggleable__label {background-color: #d4ebff;}#sk-container-id-3 div.sk-label input.sk-toggleable__control:checked~label.sk-toggleable__label {background-color: #d4ebff;}#sk-container-id-3 input.sk-hidden--visually {border: 0;clip: rect(1px 1px 1px 1px);clip: rect(1px, 1px, 1px, 1px);height: 1px;margin: -1px;overflow: hidden;padding: 0;position: absolute;width: 1px;}#sk-container-id-3 div.sk-estimator {font-family: monospace;background-color: #f0f8ff;border: 1px dotted black;border-radius: 0.25em;box-sizing: border-box;margin-bottom: 0.5em;}#sk-container-id-3 div.sk-estimator:hover {background-color: #d4ebff;}#sk-container-id-3 div.sk-parallel-item::after {content: \"\";width: 100%;border-bottom: 1px solid gray;flex-grow: 1;}#sk-container-id-3 div.sk-label:hover label.sk-toggleable__label {background-color: #d4ebff;}#sk-container-id-3 div.sk-serial::before {content: \"\";position: absolute;border-left: 1px solid gray;box-sizing: border-box;top: 0;bottom: 0;left: 50%;z-index: 0;}#sk-container-id-3 div.sk-serial {display: flex;flex-direction: column;align-items: center;background-color: white;padding-right: 0.2em;padding-left: 0.2em;position: relative;}#sk-container-id-3 div.sk-item {position: relative;z-index: 1;}#sk-container-id-3 div.sk-parallel {display: flex;align-items: stretch;justify-content: center;background-color: white;position: relative;}#sk-container-id-3 div.sk-item::before, #sk-container-id-3 div.sk-parallel-item::before {content: \"\";position: absolute;border-left: 1px solid gray;box-sizing: border-box;top: 0;bottom: 0;left: 50%;z-index: -1;}#sk-container-id-3 div.sk-parallel-item {display: flex;flex-direction: column;z-index: 1;position: relative;background-color: white;}#sk-container-id-3 div.sk-parallel-item:first-child::after {align-self: flex-end;width: 50%;}#sk-container-id-3 div.sk-parallel-item:last-child::after {align-self: flex-start;width: 50%;}#sk-container-id-3 div.sk-parallel-item:only-child::after {width: 0;}#sk-container-id-3 div.sk-dashed-wrapped {border: 1px dashed gray;margin: 0 0.4em 0.5em 0.4em;box-sizing: border-box;padding-bottom: 0.4em;background-color: white;}#sk-container-id-3 div.sk-label label {font-family: monospace;font-weight: bold;display: inline-block;line-height: 1.2em;}#sk-container-id-3 div.sk-label-container {text-align: center;}#sk-container-id-3 div.sk-container {/* jupyter's `normalize.less` sets `[hidden] { display: none; }` but bootstrap.min.css set `[hidden] { display: none !important; }` so we also need the `!important` here to be able to override the default hidden behavior on the sphinx rendered scikit-learn.org. See: https://github.com/scikit-learn/scikit-learn/issues/21755 */display: inline-block !important;position: relative;}#sk-container-id-3 div.sk-text-repr-fallback {display: none;}</style><div id=\"sk-container-id-3\" class=\"sk-top-container\"><div class=\"sk-text-repr-fallback\"><pre>LinearRegression()</pre><b>In a Jupyter environment, please rerun this cell to show the HTML representation or trust the notebook. <br />On GitHub, the HTML representation is unable to render, please try loading this page with nbviewer.org.</b></div><div class=\"sk-container\" hidden><div class=\"sk-item\"><div class=\"sk-estimator sk-toggleable\"><input class=\"sk-toggleable__control sk-hidden--visually\" id=\"sk-estimator-id-8\" type=\"checkbox\" checked><label for=\"sk-estimator-id-8\" class=\"sk-toggleable__label sk-toggleable__label-arrow\">LinearRegression</label><div class=\"sk-toggleable__content\"><pre>LinearRegression()</pre></div></div></div></div></div>"
      ],
      "text/plain": [
       "LinearRegression()"
      ]
     },
     "execution_count": 41,
     "metadata": {},
     "output_type": "execute_result"
    }
   ],
   "source": [
    "lin.fit(X_train_,y_train)"
   ]
  },
  {
   "cell_type": "code",
   "execution_count": 42,
   "id": "2d9d2339-62ad-4122-b4e4-1e8c915138f6",
   "metadata": {},
   "outputs": [
    {
     "data": {
      "text/plain": [
       "0.5915853287516707"
      ]
     },
     "execution_count": 42,
     "metadata": {},
     "output_type": "execute_result"
    }
   ],
   "source": [
    "lin.score(X_test_, y_test)"
   ]
  },
  {
   "cell_type": "code",
   "execution_count": 43,
   "id": "5813f6a3-a094-4a0c-b0bb-e72681684c77",
   "metadata": {},
   "outputs": [],
   "source": [
    "from sklearn.ensemble import RandomForestRegressor\n",
    "rf = RandomForestRegressor()"
   ]
  },
  {
   "cell_type": "code",
   "execution_count": 44,
   "id": "e98e94df-84c2-4e84-b9d3-9fb2aeb99b23",
   "metadata": {},
   "outputs": [
    {
     "data": {
      "text/html": [
       "<style>#sk-container-id-4 {color: black;background-color: white;}#sk-container-id-4 pre{padding: 0;}#sk-container-id-4 div.sk-toggleable {background-color: white;}#sk-container-id-4 label.sk-toggleable__label {cursor: pointer;display: block;width: 100%;margin-bottom: 0;padding: 0.3em;box-sizing: border-box;text-align: center;}#sk-container-id-4 label.sk-toggleable__label-arrow:before {content: \"▸\";float: left;margin-right: 0.25em;color: #696969;}#sk-container-id-4 label.sk-toggleable__label-arrow:hover:before {color: black;}#sk-container-id-4 div.sk-estimator:hover label.sk-toggleable__label-arrow:before {color: black;}#sk-container-id-4 div.sk-toggleable__content {max-height: 0;max-width: 0;overflow: hidden;text-align: left;background-color: #f0f8ff;}#sk-container-id-4 div.sk-toggleable__content pre {margin: 0.2em;color: black;border-radius: 0.25em;background-color: #f0f8ff;}#sk-container-id-4 input.sk-toggleable__control:checked~div.sk-toggleable__content {max-height: 200px;max-width: 100%;overflow: auto;}#sk-container-id-4 input.sk-toggleable__control:checked~label.sk-toggleable__label-arrow:before {content: \"▾\";}#sk-container-id-4 div.sk-estimator input.sk-toggleable__control:checked~label.sk-toggleable__label {background-color: #d4ebff;}#sk-container-id-4 div.sk-label input.sk-toggleable__control:checked~label.sk-toggleable__label {background-color: #d4ebff;}#sk-container-id-4 input.sk-hidden--visually {border: 0;clip: rect(1px 1px 1px 1px);clip: rect(1px, 1px, 1px, 1px);height: 1px;margin: -1px;overflow: hidden;padding: 0;position: absolute;width: 1px;}#sk-container-id-4 div.sk-estimator {font-family: monospace;background-color: #f0f8ff;border: 1px dotted black;border-radius: 0.25em;box-sizing: border-box;margin-bottom: 0.5em;}#sk-container-id-4 div.sk-estimator:hover {background-color: #d4ebff;}#sk-container-id-4 div.sk-parallel-item::after {content: \"\";width: 100%;border-bottom: 1px solid gray;flex-grow: 1;}#sk-container-id-4 div.sk-label:hover label.sk-toggleable__label {background-color: #d4ebff;}#sk-container-id-4 div.sk-serial::before {content: \"\";position: absolute;border-left: 1px solid gray;box-sizing: border-box;top: 0;bottom: 0;left: 50%;z-index: 0;}#sk-container-id-4 div.sk-serial {display: flex;flex-direction: column;align-items: center;background-color: white;padding-right: 0.2em;padding-left: 0.2em;position: relative;}#sk-container-id-4 div.sk-item {position: relative;z-index: 1;}#sk-container-id-4 div.sk-parallel {display: flex;align-items: stretch;justify-content: center;background-color: white;position: relative;}#sk-container-id-4 div.sk-item::before, #sk-container-id-4 div.sk-parallel-item::before {content: \"\";position: absolute;border-left: 1px solid gray;box-sizing: border-box;top: 0;bottom: 0;left: 50%;z-index: -1;}#sk-container-id-4 div.sk-parallel-item {display: flex;flex-direction: column;z-index: 1;position: relative;background-color: white;}#sk-container-id-4 div.sk-parallel-item:first-child::after {align-self: flex-end;width: 50%;}#sk-container-id-4 div.sk-parallel-item:last-child::after {align-self: flex-start;width: 50%;}#sk-container-id-4 div.sk-parallel-item:only-child::after {width: 0;}#sk-container-id-4 div.sk-dashed-wrapped {border: 1px dashed gray;margin: 0 0.4em 0.5em 0.4em;box-sizing: border-box;padding-bottom: 0.4em;background-color: white;}#sk-container-id-4 div.sk-label label {font-family: monospace;font-weight: bold;display: inline-block;line-height: 1.2em;}#sk-container-id-4 div.sk-label-container {text-align: center;}#sk-container-id-4 div.sk-container {/* jupyter's `normalize.less` sets `[hidden] { display: none; }` but bootstrap.min.css set `[hidden] { display: none !important; }` so we also need the `!important` here to be able to override the default hidden behavior on the sphinx rendered scikit-learn.org. See: https://github.com/scikit-learn/scikit-learn/issues/21755 */display: inline-block !important;position: relative;}#sk-container-id-4 div.sk-text-repr-fallback {display: none;}</style><div id=\"sk-container-id-4\" class=\"sk-top-container\"><div class=\"sk-text-repr-fallback\"><pre>RandomForestRegressor()</pre><b>In a Jupyter environment, please rerun this cell to show the HTML representation or trust the notebook. <br />On GitHub, the HTML representation is unable to render, please try loading this page with nbviewer.org.</b></div><div class=\"sk-container\" hidden><div class=\"sk-item\"><div class=\"sk-estimator sk-toggleable\"><input class=\"sk-toggleable__control sk-hidden--visually\" id=\"sk-estimator-id-9\" type=\"checkbox\" checked><label for=\"sk-estimator-id-9\" class=\"sk-toggleable__label sk-toggleable__label-arrow\">RandomForestRegressor</label><div class=\"sk-toggleable__content\"><pre>RandomForestRegressor()</pre></div></div></div></div></div>"
      ],
      "text/plain": [
       "RandomForestRegressor()"
      ]
     },
     "execution_count": 44,
     "metadata": {},
     "output_type": "execute_result"
    }
   ],
   "source": [
    "rf.fit(X_train_,y_train)"
   ]
  },
  {
   "cell_type": "code",
   "execution_count": 45,
   "id": "ab2e40e4-1f70-4f4e-b3d6-17a3baea4dfa",
   "metadata": {},
   "outputs": [
    {
     "data": {
      "text/plain": [
       "0.6103460375223932"
      ]
     },
     "execution_count": 45,
     "metadata": {},
     "output_type": "execute_result"
    }
   ],
   "source": [
    "rf.score(X_test_, y_test)"
   ]
  },
  {
   "cell_type": "code",
   "execution_count": 46,
   "id": "398beaad-acc4-4256-84b2-f658c8baf529",
   "metadata": {},
   "outputs": [],
   "source": [
    "from sklearn.tree import DecisionTreeRegressor\n",
    "\n",
    "dtr = DecisionTreeRegressor()"
   ]
  },
  {
   "cell_type": "code",
   "execution_count": 47,
   "id": "b67ae59d-0a69-4747-a534-15204aa044f1",
   "metadata": {},
   "outputs": [
    {
     "data": {
      "text/html": [
       "<style>#sk-container-id-5 {color: black;background-color: white;}#sk-container-id-5 pre{padding: 0;}#sk-container-id-5 div.sk-toggleable {background-color: white;}#sk-container-id-5 label.sk-toggleable__label {cursor: pointer;display: block;width: 100%;margin-bottom: 0;padding: 0.3em;box-sizing: border-box;text-align: center;}#sk-container-id-5 label.sk-toggleable__label-arrow:before {content: \"▸\";float: left;margin-right: 0.25em;color: #696969;}#sk-container-id-5 label.sk-toggleable__label-arrow:hover:before {color: black;}#sk-container-id-5 div.sk-estimator:hover label.sk-toggleable__label-arrow:before {color: black;}#sk-container-id-5 div.sk-toggleable__content {max-height: 0;max-width: 0;overflow: hidden;text-align: left;background-color: #f0f8ff;}#sk-container-id-5 div.sk-toggleable__content pre {margin: 0.2em;color: black;border-radius: 0.25em;background-color: #f0f8ff;}#sk-container-id-5 input.sk-toggleable__control:checked~div.sk-toggleable__content {max-height: 200px;max-width: 100%;overflow: auto;}#sk-container-id-5 input.sk-toggleable__control:checked~label.sk-toggleable__label-arrow:before {content: \"▾\";}#sk-container-id-5 div.sk-estimator input.sk-toggleable__control:checked~label.sk-toggleable__label {background-color: #d4ebff;}#sk-container-id-5 div.sk-label input.sk-toggleable__control:checked~label.sk-toggleable__label {background-color: #d4ebff;}#sk-container-id-5 input.sk-hidden--visually {border: 0;clip: rect(1px 1px 1px 1px);clip: rect(1px, 1px, 1px, 1px);height: 1px;margin: -1px;overflow: hidden;padding: 0;position: absolute;width: 1px;}#sk-container-id-5 div.sk-estimator {font-family: monospace;background-color: #f0f8ff;border: 1px dotted black;border-radius: 0.25em;box-sizing: border-box;margin-bottom: 0.5em;}#sk-container-id-5 div.sk-estimator:hover {background-color: #d4ebff;}#sk-container-id-5 div.sk-parallel-item::after {content: \"\";width: 100%;border-bottom: 1px solid gray;flex-grow: 1;}#sk-container-id-5 div.sk-label:hover label.sk-toggleable__label {background-color: #d4ebff;}#sk-container-id-5 div.sk-serial::before {content: \"\";position: absolute;border-left: 1px solid gray;box-sizing: border-box;top: 0;bottom: 0;left: 50%;z-index: 0;}#sk-container-id-5 div.sk-serial {display: flex;flex-direction: column;align-items: center;background-color: white;padding-right: 0.2em;padding-left: 0.2em;position: relative;}#sk-container-id-5 div.sk-item {position: relative;z-index: 1;}#sk-container-id-5 div.sk-parallel {display: flex;align-items: stretch;justify-content: center;background-color: white;position: relative;}#sk-container-id-5 div.sk-item::before, #sk-container-id-5 div.sk-parallel-item::before {content: \"\";position: absolute;border-left: 1px solid gray;box-sizing: border-box;top: 0;bottom: 0;left: 50%;z-index: -1;}#sk-container-id-5 div.sk-parallel-item {display: flex;flex-direction: column;z-index: 1;position: relative;background-color: white;}#sk-container-id-5 div.sk-parallel-item:first-child::after {align-self: flex-end;width: 50%;}#sk-container-id-5 div.sk-parallel-item:last-child::after {align-self: flex-start;width: 50%;}#sk-container-id-5 div.sk-parallel-item:only-child::after {width: 0;}#sk-container-id-5 div.sk-dashed-wrapped {border: 1px dashed gray;margin: 0 0.4em 0.5em 0.4em;box-sizing: border-box;padding-bottom: 0.4em;background-color: white;}#sk-container-id-5 div.sk-label label {font-family: monospace;font-weight: bold;display: inline-block;line-height: 1.2em;}#sk-container-id-5 div.sk-label-container {text-align: center;}#sk-container-id-5 div.sk-container {/* jupyter's `normalize.less` sets `[hidden] { display: none; }` but bootstrap.min.css set `[hidden] { display: none !important; }` so we also need the `!important` here to be able to override the default hidden behavior on the sphinx rendered scikit-learn.org. See: https://github.com/scikit-learn/scikit-learn/issues/21755 */display: inline-block !important;position: relative;}#sk-container-id-5 div.sk-text-repr-fallback {display: none;}</style><div id=\"sk-container-id-5\" class=\"sk-top-container\"><div class=\"sk-text-repr-fallback\"><pre>DecisionTreeRegressor()</pre><b>In a Jupyter environment, please rerun this cell to show the HTML representation or trust the notebook. <br />On GitHub, the HTML representation is unable to render, please try loading this page with nbviewer.org.</b></div><div class=\"sk-container\" hidden><div class=\"sk-item\"><div class=\"sk-estimator sk-toggleable\"><input class=\"sk-toggleable__control sk-hidden--visually\" id=\"sk-estimator-id-10\" type=\"checkbox\" checked><label for=\"sk-estimator-id-10\" class=\"sk-toggleable__label sk-toggleable__label-arrow\">DecisionTreeRegressor</label><div class=\"sk-toggleable__content\"><pre>DecisionTreeRegressor()</pre></div></div></div></div></div>"
      ],
      "text/plain": [
       "DecisionTreeRegressor()"
      ]
     },
     "execution_count": 47,
     "metadata": {},
     "output_type": "execute_result"
    }
   ],
   "source": [
    "dtr.fit(X_train_,y_train)"
   ]
  },
  {
   "cell_type": "code",
   "execution_count": 48,
   "id": "6eb069f8-eeb5-4f2a-9e60-6be9da138180",
   "metadata": {},
   "outputs": [
    {
     "data": {
      "text/plain": [
       "0.3284440684029053"
      ]
     },
     "execution_count": 48,
     "metadata": {},
     "output_type": "execute_result"
    }
   ],
   "source": [
    "dtr.score(X_test_,y_test)"
   ]
  },
  {
   "cell_type": "code",
   "execution_count": 49,
   "id": "5a333854-b0d9-43d0-9146-4b3b09cf0fc3",
   "metadata": {},
   "outputs": [],
   "source": [
    "from sklearn.linear_model import Lasso\n",
    "\n",
    "ls = Lasso()"
   ]
  },
  {
   "cell_type": "code",
   "execution_count": 50,
   "id": "1cd05796-a2c9-4ebb-8d43-298ee5fa836c",
   "metadata": {},
   "outputs": [
    {
     "data": {
      "text/html": [
       "<style>#sk-container-id-6 {color: black;background-color: white;}#sk-container-id-6 pre{padding: 0;}#sk-container-id-6 div.sk-toggleable {background-color: white;}#sk-container-id-6 label.sk-toggleable__label {cursor: pointer;display: block;width: 100%;margin-bottom: 0;padding: 0.3em;box-sizing: border-box;text-align: center;}#sk-container-id-6 label.sk-toggleable__label-arrow:before {content: \"▸\";float: left;margin-right: 0.25em;color: #696969;}#sk-container-id-6 label.sk-toggleable__label-arrow:hover:before {color: black;}#sk-container-id-6 div.sk-estimator:hover label.sk-toggleable__label-arrow:before {color: black;}#sk-container-id-6 div.sk-toggleable__content {max-height: 0;max-width: 0;overflow: hidden;text-align: left;background-color: #f0f8ff;}#sk-container-id-6 div.sk-toggleable__content pre {margin: 0.2em;color: black;border-radius: 0.25em;background-color: #f0f8ff;}#sk-container-id-6 input.sk-toggleable__control:checked~div.sk-toggleable__content {max-height: 200px;max-width: 100%;overflow: auto;}#sk-container-id-6 input.sk-toggleable__control:checked~label.sk-toggleable__label-arrow:before {content: \"▾\";}#sk-container-id-6 div.sk-estimator input.sk-toggleable__control:checked~label.sk-toggleable__label {background-color: #d4ebff;}#sk-container-id-6 div.sk-label input.sk-toggleable__control:checked~label.sk-toggleable__label {background-color: #d4ebff;}#sk-container-id-6 input.sk-hidden--visually {border: 0;clip: rect(1px 1px 1px 1px);clip: rect(1px, 1px, 1px, 1px);height: 1px;margin: -1px;overflow: hidden;padding: 0;position: absolute;width: 1px;}#sk-container-id-6 div.sk-estimator {font-family: monospace;background-color: #f0f8ff;border: 1px dotted black;border-radius: 0.25em;box-sizing: border-box;margin-bottom: 0.5em;}#sk-container-id-6 div.sk-estimator:hover {background-color: #d4ebff;}#sk-container-id-6 div.sk-parallel-item::after {content: \"\";width: 100%;border-bottom: 1px solid gray;flex-grow: 1;}#sk-container-id-6 div.sk-label:hover label.sk-toggleable__label {background-color: #d4ebff;}#sk-container-id-6 div.sk-serial::before {content: \"\";position: absolute;border-left: 1px solid gray;box-sizing: border-box;top: 0;bottom: 0;left: 50%;z-index: 0;}#sk-container-id-6 div.sk-serial {display: flex;flex-direction: column;align-items: center;background-color: white;padding-right: 0.2em;padding-left: 0.2em;position: relative;}#sk-container-id-6 div.sk-item {position: relative;z-index: 1;}#sk-container-id-6 div.sk-parallel {display: flex;align-items: stretch;justify-content: center;background-color: white;position: relative;}#sk-container-id-6 div.sk-item::before, #sk-container-id-6 div.sk-parallel-item::before {content: \"\";position: absolute;border-left: 1px solid gray;box-sizing: border-box;top: 0;bottom: 0;left: 50%;z-index: -1;}#sk-container-id-6 div.sk-parallel-item {display: flex;flex-direction: column;z-index: 1;position: relative;background-color: white;}#sk-container-id-6 div.sk-parallel-item:first-child::after {align-self: flex-end;width: 50%;}#sk-container-id-6 div.sk-parallel-item:last-child::after {align-self: flex-start;width: 50%;}#sk-container-id-6 div.sk-parallel-item:only-child::after {width: 0;}#sk-container-id-6 div.sk-dashed-wrapped {border: 1px dashed gray;margin: 0 0.4em 0.5em 0.4em;box-sizing: border-box;padding-bottom: 0.4em;background-color: white;}#sk-container-id-6 div.sk-label label {font-family: monospace;font-weight: bold;display: inline-block;line-height: 1.2em;}#sk-container-id-6 div.sk-label-container {text-align: center;}#sk-container-id-6 div.sk-container {/* jupyter's `normalize.less` sets `[hidden] { display: none; }` but bootstrap.min.css set `[hidden] { display: none !important; }` so we also need the `!important` here to be able to override the default hidden behavior on the sphinx rendered scikit-learn.org. See: https://github.com/scikit-learn/scikit-learn/issues/21755 */display: inline-block !important;position: relative;}#sk-container-id-6 div.sk-text-repr-fallback {display: none;}</style><div id=\"sk-container-id-6\" class=\"sk-top-container\"><div class=\"sk-text-repr-fallback\"><pre>Lasso()</pre><b>In a Jupyter environment, please rerun this cell to show the HTML representation or trust the notebook. <br />On GitHub, the HTML representation is unable to render, please try loading this page with nbviewer.org.</b></div><div class=\"sk-container\" hidden><div class=\"sk-item\"><div class=\"sk-estimator sk-toggleable\"><input class=\"sk-toggleable__control sk-hidden--visually\" id=\"sk-estimator-id-11\" type=\"checkbox\" checked><label for=\"sk-estimator-id-11\" class=\"sk-toggleable__label sk-toggleable__label-arrow\">Lasso</label><div class=\"sk-toggleable__content\"><pre>Lasso()</pre></div></div></div></div></div>"
      ],
      "text/plain": [
       "Lasso()"
      ]
     },
     "execution_count": 50,
     "metadata": {},
     "output_type": "execute_result"
    }
   ],
   "source": [
    "ls.fit(X_train_,y_train)"
   ]
  },
  {
   "cell_type": "code",
   "execution_count": 51,
   "id": "01d94ab5-35db-4cba-8284-86118b2e4c88",
   "metadata": {},
   "outputs": [
    {
     "data": {
      "text/plain": [
       "0.5916149573730832"
      ]
     },
     "execution_count": 51,
     "metadata": {},
     "output_type": "execute_result"
    }
   ],
   "source": [
    "ls.score(X_test_,y_test)"
   ]
  },
  {
   "cell_type": "code",
   "execution_count": 52,
   "id": "eb8685a9-4b48-49ef-8bba-219a0a96dbfa",
   "metadata": {},
   "outputs": [],
   "source": [
    "from sklearn.neighbors import KNeighborsRegressor\n",
    "\n",
    "knr = KNeighborsRegressor()"
   ]
  },
  {
   "cell_type": "code",
   "execution_count": 53,
   "id": "93a201e9-daa5-4fcc-815f-d678594e3c71",
   "metadata": {},
   "outputs": [
    {
     "data": {
      "text/html": [
       "<style>#sk-container-id-7 {color: black;background-color: white;}#sk-container-id-7 pre{padding: 0;}#sk-container-id-7 div.sk-toggleable {background-color: white;}#sk-container-id-7 label.sk-toggleable__label {cursor: pointer;display: block;width: 100%;margin-bottom: 0;padding: 0.3em;box-sizing: border-box;text-align: center;}#sk-container-id-7 label.sk-toggleable__label-arrow:before {content: \"▸\";float: left;margin-right: 0.25em;color: #696969;}#sk-container-id-7 label.sk-toggleable__label-arrow:hover:before {color: black;}#sk-container-id-7 div.sk-estimator:hover label.sk-toggleable__label-arrow:before {color: black;}#sk-container-id-7 div.sk-toggleable__content {max-height: 0;max-width: 0;overflow: hidden;text-align: left;background-color: #f0f8ff;}#sk-container-id-7 div.sk-toggleable__content pre {margin: 0.2em;color: black;border-radius: 0.25em;background-color: #f0f8ff;}#sk-container-id-7 input.sk-toggleable__control:checked~div.sk-toggleable__content {max-height: 200px;max-width: 100%;overflow: auto;}#sk-container-id-7 input.sk-toggleable__control:checked~label.sk-toggleable__label-arrow:before {content: \"▾\";}#sk-container-id-7 div.sk-estimator input.sk-toggleable__control:checked~label.sk-toggleable__label {background-color: #d4ebff;}#sk-container-id-7 div.sk-label input.sk-toggleable__control:checked~label.sk-toggleable__label {background-color: #d4ebff;}#sk-container-id-7 input.sk-hidden--visually {border: 0;clip: rect(1px 1px 1px 1px);clip: rect(1px, 1px, 1px, 1px);height: 1px;margin: -1px;overflow: hidden;padding: 0;position: absolute;width: 1px;}#sk-container-id-7 div.sk-estimator {font-family: monospace;background-color: #f0f8ff;border: 1px dotted black;border-radius: 0.25em;box-sizing: border-box;margin-bottom: 0.5em;}#sk-container-id-7 div.sk-estimator:hover {background-color: #d4ebff;}#sk-container-id-7 div.sk-parallel-item::after {content: \"\";width: 100%;border-bottom: 1px solid gray;flex-grow: 1;}#sk-container-id-7 div.sk-label:hover label.sk-toggleable__label {background-color: #d4ebff;}#sk-container-id-7 div.sk-serial::before {content: \"\";position: absolute;border-left: 1px solid gray;box-sizing: border-box;top: 0;bottom: 0;left: 50%;z-index: 0;}#sk-container-id-7 div.sk-serial {display: flex;flex-direction: column;align-items: center;background-color: white;padding-right: 0.2em;padding-left: 0.2em;position: relative;}#sk-container-id-7 div.sk-item {position: relative;z-index: 1;}#sk-container-id-7 div.sk-parallel {display: flex;align-items: stretch;justify-content: center;background-color: white;position: relative;}#sk-container-id-7 div.sk-item::before, #sk-container-id-7 div.sk-parallel-item::before {content: \"\";position: absolute;border-left: 1px solid gray;box-sizing: border-box;top: 0;bottom: 0;left: 50%;z-index: -1;}#sk-container-id-7 div.sk-parallel-item {display: flex;flex-direction: column;z-index: 1;position: relative;background-color: white;}#sk-container-id-7 div.sk-parallel-item:first-child::after {align-self: flex-end;width: 50%;}#sk-container-id-7 div.sk-parallel-item:last-child::after {align-self: flex-start;width: 50%;}#sk-container-id-7 div.sk-parallel-item:only-child::after {width: 0;}#sk-container-id-7 div.sk-dashed-wrapped {border: 1px dashed gray;margin: 0 0.4em 0.5em 0.4em;box-sizing: border-box;padding-bottom: 0.4em;background-color: white;}#sk-container-id-7 div.sk-label label {font-family: monospace;font-weight: bold;display: inline-block;line-height: 1.2em;}#sk-container-id-7 div.sk-label-container {text-align: center;}#sk-container-id-7 div.sk-container {/* jupyter's `normalize.less` sets `[hidden] { display: none; }` but bootstrap.min.css set `[hidden] { display: none !important; }` so we also need the `!important` here to be able to override the default hidden behavior on the sphinx rendered scikit-learn.org. See: https://github.com/scikit-learn/scikit-learn/issues/21755 */display: inline-block !important;position: relative;}#sk-container-id-7 div.sk-text-repr-fallback {display: none;}</style><div id=\"sk-container-id-7\" class=\"sk-top-container\"><div class=\"sk-text-repr-fallback\"><pre>KNeighborsRegressor()</pre><b>In a Jupyter environment, please rerun this cell to show the HTML representation or trust the notebook. <br />On GitHub, the HTML representation is unable to render, please try loading this page with nbviewer.org.</b></div><div class=\"sk-container\" hidden><div class=\"sk-item\"><div class=\"sk-estimator sk-toggleable\"><input class=\"sk-toggleable__control sk-hidden--visually\" id=\"sk-estimator-id-12\" type=\"checkbox\" checked><label for=\"sk-estimator-id-12\" class=\"sk-toggleable__label sk-toggleable__label-arrow\">KNeighborsRegressor</label><div class=\"sk-toggleable__content\"><pre>KNeighborsRegressor()</pre></div></div></div></div></div>"
      ],
      "text/plain": [
       "KNeighborsRegressor()"
      ]
     },
     "execution_count": 53,
     "metadata": {},
     "output_type": "execute_result"
    }
   ],
   "source": [
    "knr.fit(X_train_,y_train)"
   ]
  },
  {
   "cell_type": "code",
   "execution_count": 54,
   "id": "4d418d84-eb6e-492d-aa34-29f3b19d4556",
   "metadata": {},
   "outputs": [
    {
     "data": {
      "text/plain": [
       "0.4360384913150859"
      ]
     },
     "execution_count": 54,
     "metadata": {},
     "output_type": "execute_result"
    }
   ],
   "source": [
    "knr.score(X_test_,y_test)"
   ]
  },
  {
   "cell_type": "markdown",
   "id": "6196accf-e27e-4573-b23d-e5c5916a8605",
   "metadata": {},
   "source": [
    "                IMPROVING ON BEST PERFORMING ESTIMATOR 'RANDOMFORESTREGRESSOR' (CROSS VALIDATION AND HYPER PARAMETER TUNING)"
   ]
  },
  {
   "cell_type": "code",
   "execution_count": 55,
   "id": "30d056d3-7bf3-470d-b745-44bb78668003",
   "metadata": {},
   "outputs": [],
   "source": [
    "#Creating Random forest Paramter Grid\n",
    "randomforest_grid = {\n",
    "    'n_estimators': np.arange(10, 150, 10), \n",
    "    'max_depth': np.arange(0, 50, 5),\n",
    "    'min_samples_leaf': np.arange(1, 10, 1),\n",
    "    'n_jobs': np.arange(1, 10, 1),\n",
    "}"
   ]
  },
  {
   "cell_type": "code",
   "execution_count": 56,
   "id": "3be8718a-176d-40b5-9168-4e5cff918724",
   "metadata": {},
   "outputs": [
    {
     "name": "stdout",
     "output_type": "stream",
     "text": [
      "Fitting 5 folds for each of 15 candidates, totalling 75 fits\n"
     ]
    },
    {
     "data": {
      "text/html": [
       "<style>#sk-container-id-8 {color: black;background-color: white;}#sk-container-id-8 pre{padding: 0;}#sk-container-id-8 div.sk-toggleable {background-color: white;}#sk-container-id-8 label.sk-toggleable__label {cursor: pointer;display: block;width: 100%;margin-bottom: 0;padding: 0.3em;box-sizing: border-box;text-align: center;}#sk-container-id-8 label.sk-toggleable__label-arrow:before {content: \"▸\";float: left;margin-right: 0.25em;color: #696969;}#sk-container-id-8 label.sk-toggleable__label-arrow:hover:before {color: black;}#sk-container-id-8 div.sk-estimator:hover label.sk-toggleable__label-arrow:before {color: black;}#sk-container-id-8 div.sk-toggleable__content {max-height: 0;max-width: 0;overflow: hidden;text-align: left;background-color: #f0f8ff;}#sk-container-id-8 div.sk-toggleable__content pre {margin: 0.2em;color: black;border-radius: 0.25em;background-color: #f0f8ff;}#sk-container-id-8 input.sk-toggleable__control:checked~div.sk-toggleable__content {max-height: 200px;max-width: 100%;overflow: auto;}#sk-container-id-8 input.sk-toggleable__control:checked~label.sk-toggleable__label-arrow:before {content: \"▾\";}#sk-container-id-8 div.sk-estimator input.sk-toggleable__control:checked~label.sk-toggleable__label {background-color: #d4ebff;}#sk-container-id-8 div.sk-label input.sk-toggleable__control:checked~label.sk-toggleable__label {background-color: #d4ebff;}#sk-container-id-8 input.sk-hidden--visually {border: 0;clip: rect(1px 1px 1px 1px);clip: rect(1px, 1px, 1px, 1px);height: 1px;margin: -1px;overflow: hidden;padding: 0;position: absolute;width: 1px;}#sk-container-id-8 div.sk-estimator {font-family: monospace;background-color: #f0f8ff;border: 1px dotted black;border-radius: 0.25em;box-sizing: border-box;margin-bottom: 0.5em;}#sk-container-id-8 div.sk-estimator:hover {background-color: #d4ebff;}#sk-container-id-8 div.sk-parallel-item::after {content: \"\";width: 100%;border-bottom: 1px solid gray;flex-grow: 1;}#sk-container-id-8 div.sk-label:hover label.sk-toggleable__label {background-color: #d4ebff;}#sk-container-id-8 div.sk-serial::before {content: \"\";position: absolute;border-left: 1px solid gray;box-sizing: border-box;top: 0;bottom: 0;left: 50%;z-index: 0;}#sk-container-id-8 div.sk-serial {display: flex;flex-direction: column;align-items: center;background-color: white;padding-right: 0.2em;padding-left: 0.2em;position: relative;}#sk-container-id-8 div.sk-item {position: relative;z-index: 1;}#sk-container-id-8 div.sk-parallel {display: flex;align-items: stretch;justify-content: center;background-color: white;position: relative;}#sk-container-id-8 div.sk-item::before, #sk-container-id-8 div.sk-parallel-item::before {content: \"\";position: absolute;border-left: 1px solid gray;box-sizing: border-box;top: 0;bottom: 0;left: 50%;z-index: -1;}#sk-container-id-8 div.sk-parallel-item {display: flex;flex-direction: column;z-index: 1;position: relative;background-color: white;}#sk-container-id-8 div.sk-parallel-item:first-child::after {align-self: flex-end;width: 50%;}#sk-container-id-8 div.sk-parallel-item:last-child::after {align-self: flex-start;width: 50%;}#sk-container-id-8 div.sk-parallel-item:only-child::after {width: 0;}#sk-container-id-8 div.sk-dashed-wrapped {border: 1px dashed gray;margin: 0 0.4em 0.5em 0.4em;box-sizing: border-box;padding-bottom: 0.4em;background-color: white;}#sk-container-id-8 div.sk-label label {font-family: monospace;font-weight: bold;display: inline-block;line-height: 1.2em;}#sk-container-id-8 div.sk-label-container {text-align: center;}#sk-container-id-8 div.sk-container {/* jupyter's `normalize.less` sets `[hidden] { display: none; }` but bootstrap.min.css set `[hidden] { display: none !important; }` so we also need the `!important` here to be able to override the default hidden behavior on the sphinx rendered scikit-learn.org. See: https://github.com/scikit-learn/scikit-learn/issues/21755 */display: inline-block !important;position: relative;}#sk-container-id-8 div.sk-text-repr-fallback {display: none;}</style><div id=\"sk-container-id-8\" class=\"sk-top-container\"><div class=\"sk-text-repr-fallback\"><pre>RandomizedSearchCV(cv=5, estimator=RandomForestRegressor(), n_iter=15,\n",
       "                   param_distributions={&#x27;max_depth&#x27;: array([ 0,  5, 10, 15, 20, 25, 30, 35, 40, 45]),\n",
       "                                        &#x27;min_samples_leaf&#x27;: array([1, 2, 3, 4, 5, 6, 7, 8, 9]),\n",
       "                                        &#x27;n_estimators&#x27;: array([ 10,  20,  30,  40,  50,  60,  70,  80,  90, 100, 110, 120, 130,\n",
       "       140]),\n",
       "                                        &#x27;n_jobs&#x27;: array([1, 2, 3, 4, 5, 6, 7, 8, 9])},\n",
       "                   verbose=True)</pre><b>In a Jupyter environment, please rerun this cell to show the HTML representation or trust the notebook. <br />On GitHub, the HTML representation is unable to render, please try loading this page with nbviewer.org.</b></div><div class=\"sk-container\" hidden><div class=\"sk-item sk-dashed-wrapped\"><div class=\"sk-label-container\"><div class=\"sk-label sk-toggleable\"><input class=\"sk-toggleable__control sk-hidden--visually\" id=\"sk-estimator-id-13\" type=\"checkbox\" ><label for=\"sk-estimator-id-13\" class=\"sk-toggleable__label sk-toggleable__label-arrow\">RandomizedSearchCV</label><div class=\"sk-toggleable__content\"><pre>RandomizedSearchCV(cv=5, estimator=RandomForestRegressor(), n_iter=15,\n",
       "                   param_distributions={&#x27;max_depth&#x27;: array([ 0,  5, 10, 15, 20, 25, 30, 35, 40, 45]),\n",
       "                                        &#x27;min_samples_leaf&#x27;: array([1, 2, 3, 4, 5, 6, 7, 8, 9]),\n",
       "                                        &#x27;n_estimators&#x27;: array([ 10,  20,  30,  40,  50,  60,  70,  80,  90, 100, 110, 120, 130,\n",
       "       140]),\n",
       "                                        &#x27;n_jobs&#x27;: array([1, 2, 3, 4, 5, 6, 7, 8, 9])},\n",
       "                   verbose=True)</pre></div></div></div><div class=\"sk-parallel\"><div class=\"sk-parallel-item\"><div class=\"sk-item\"><div class=\"sk-label-container\"><div class=\"sk-label sk-toggleable\"><input class=\"sk-toggleable__control sk-hidden--visually\" id=\"sk-estimator-id-14\" type=\"checkbox\" ><label for=\"sk-estimator-id-14\" class=\"sk-toggleable__label sk-toggleable__label-arrow\">estimator: RandomForestRegressor</label><div class=\"sk-toggleable__content\"><pre>RandomForestRegressor()</pre></div></div></div><div class=\"sk-serial\"><div class=\"sk-item\"><div class=\"sk-estimator sk-toggleable\"><input class=\"sk-toggleable__control sk-hidden--visually\" id=\"sk-estimator-id-15\" type=\"checkbox\" ><label for=\"sk-estimator-id-15\" class=\"sk-toggleable__label sk-toggleable__label-arrow\">RandomForestRegressor</label><div class=\"sk-toggleable__content\"><pre>RandomForestRegressor()</pre></div></div></div></div></div></div></div></div></div></div>"
      ],
      "text/plain": [
       "RandomizedSearchCV(cv=5, estimator=RandomForestRegressor(), n_iter=15,\n",
       "                   param_distributions={'max_depth': array([ 0,  5, 10, 15, 20, 25, 30, 35, 40, 45]),\n",
       "                                        'min_samples_leaf': array([1, 2, 3, 4, 5, 6, 7, 8, 9]),\n",
       "                                        'n_estimators': array([ 10,  20,  30,  40,  50,  60,  70,  80,  90, 100, 110, 120, 130,\n",
       "       140]),\n",
       "                                        'n_jobs': array([1, 2, 3, 4, 5, 6, 7, 8, 9])},\n",
       "                   verbose=True)"
      ]
     },
     "execution_count": 56,
     "metadata": {},
     "output_type": "execute_result"
    }
   ],
   "source": [
    "from sklearn.model_selection import RandomizedSearchCV\n",
    "\n",
    "randomforestCV = RandomizedSearchCV(RandomForestRegressor(),                   \n",
    "                                 param_distributions =  randomforest_grid,        \n",
    "                                 cv = 5,                                   \n",
    "                                 n_iter=15,\n",
    "                                 verbose = True\n",
    ")\n",
    "\n",
    "#Fitting Cross validated Random Forest Model into Pipeline\n",
    "randomforestCV.fit(X_train_, y_train)"
   ]
  },
  {
   "cell_type": "code",
   "execution_count": 57,
   "id": "ead0276a-50d2-4e7c-a4e3-23415c1a1d39",
   "metadata": {},
   "outputs": [
    {
     "data": {
      "text/plain": [
       "{'n_jobs': 4, 'n_estimators': 90, 'min_samples_leaf': 2, 'max_depth': 15}"
      ]
     },
     "execution_count": 57,
     "metadata": {},
     "output_type": "execute_result"
    }
   ],
   "source": [
    "randomforestCV.best_params_"
   ]
  },
  {
   "cell_type": "code",
   "execution_count": 58,
   "id": "a90edc25-06b3-429d-b3b3-4ab25e2e9daf",
   "metadata": {},
   "outputs": [
    {
     "data": {
      "text/plain": [
       "0.6152727448504212"
      ]
     },
     "execution_count": 58,
     "metadata": {},
     "output_type": "execute_result"
    }
   ],
   "source": [
    "randomforestCV.score(X_test_, y_test)"
   ]
  }
 ],
 "metadata": {
  "kernelspec": {
   "display_name": "Python 3 (ipykernel)",
   "language": "python",
   "name": "python3"
  },
  "language_info": {
   "codemirror_mode": {
    "name": "ipython",
    "version": 3
   },
   "file_extension": ".py",
   "mimetype": "text/x-python",
   "name": "python",
   "nbconvert_exporter": "python",
   "pygments_lexer": "ipython3",
   "version": "3.11.7"
  }
 },
 "nbformat": 4,
 "nbformat_minor": 5
}
